{
 "cells": [
  {
   "cell_type": "code",
   "execution_count": 1,
   "metadata": {},
   "outputs": [],
   "source": [
    "%load_ext autoreload\n",
    "%autoreload 2\n",
    "%matplotlib inline\n",
    "\n",
    "import numpy as np\n",
    "import pandas as pd\n",
    "pd.options.display.float_format = '{:.3f}'.format # pandas limit to 3 decimal places\n",
    "import matplotlib.pyplot as plt\n",
    "from npiv import iv_simulator, custom_objectives, model_wrapper, NonparametricIV"
   ]
  },
  {
   "cell_type": "markdown",
   "metadata": {},
   "source": [
    "# 0. Preliminaries"
   ]
  },
  {
   "cell_type": "markdown",
   "metadata": {},
   "source": [
    "## 0.a. simulator and simulation data"
   ]
  },
  {
   "cell_type": "code",
   "execution_count": 2,
   "metadata": {},
   "outputs": [],
   "source": [
    "# number of observations\n",
    "n = 60000\n",
    "# dimensionality of the exogenous x-variables\n",
    "d = 2\n",
    "# initialize simulator and create data \n",
    "ivsim = iv_simulator.IVSimulator(num_exog_x_cols=d, numpy_random_seed=0)\n",
    "df = ivsim.generate_data(num_obs=n)\n",
    "df['id'] = np.arange(n)\n",
    "# df_test will be held out\n",
    "test_cutoff = 50000\n",
    "df_train = df.iloc[:test_cutoff,:]\n",
    "df_test = df.iloc[test_cutoff:,:]"
   ]
  },
  {
   "cell_type": "markdown",
   "metadata": {},
   "source": [
    "## 0.b. some info \n",
    "- log_sales is just a linear function of exogenous x and price\n",
    "- also, expected log price is a linear function of exogenous x and instrument"
   ]
  },
  {
   "cell_type": "code",
   "execution_count": 3,
   "metadata": {},
   "outputs": [
    {
     "name": "stdout",
     "output_type": "stream",
     "text": [
      "exogenous x columns: ['x_0', 'x_1']\n",
      "endogenous x column: log_price\n",
      "instrument column: instrument\n",
      "y column: log_sales\n",
      "log_sales is a linear function with these coefs: \n",
      "x_0          0.707\n",
      "x_1          0.707\n",
      "log_price   -4.000\n",
      "dtype: float64\n",
      "(60000, 9)\n"
     ]
    },
    {
     "data": {
      "text/html": [
       "<div>\n",
       "<style scoped>\n",
       "    .dataframe tbody tr th:only-of-type {\n",
       "        vertical-align: middle;\n",
       "    }\n",
       "\n",
       "    .dataframe tbody tr th {\n",
       "        vertical-align: top;\n",
       "    }\n",
       "\n",
       "    .dataframe thead th {\n",
       "        text-align: right;\n",
       "    }\n",
       "</style>\n",
       "<table border=\"1\" class=\"dataframe\">\n",
       "  <thead>\n",
       "    <tr style=\"text-align: right;\">\n",
       "      <th></th>\n",
       "      <th>x_0</th>\n",
       "      <th>x_1</th>\n",
       "      <th>unobserved_elast</th>\n",
       "      <th>unobserved_log_cost</th>\n",
       "      <th>unobserved_log_optimal_price</th>\n",
       "      <th>instrument</th>\n",
       "      <th>log_price</th>\n",
       "      <th>log_sales</th>\n",
       "      <th>id</th>\n",
       "    </tr>\n",
       "  </thead>\n",
       "  <tbody>\n",
       "    <tr>\n",
       "      <th>0</th>\n",
       "      <td>1.764</td>\n",
       "      <td>0.400</td>\n",
       "      <td>-2.629</td>\n",
       "      <td>1.530</td>\n",
       "      <td>2.009</td>\n",
       "      <td>-0.005</td>\n",
       "      <td>2.003</td>\n",
       "      <td>-2.034</td>\n",
       "      <td>0</td>\n",
       "    </tr>\n",
       "    <tr>\n",
       "      <th>1</th>\n",
       "      <td>0.979</td>\n",
       "      <td>2.241</td>\n",
       "      <td>-1.413</td>\n",
       "      <td>2.277</td>\n",
       "      <td>3.507</td>\n",
       "      <td>0.060</td>\n",
       "      <td>3.567</td>\n",
       "      <td>-3.198</td>\n",
       "      <td>1</td>\n",
       "    </tr>\n",
       "    <tr>\n",
       "      <th>2</th>\n",
       "      <td>1.868</td>\n",
       "      <td>-0.977</td>\n",
       "      <td>-4.423</td>\n",
       "      <td>0.630</td>\n",
       "      <td>0.886</td>\n",
       "      <td>-0.008</td>\n",
       "      <td>0.878</td>\n",
       "      <td>-2.281</td>\n",
       "      <td>2</td>\n",
       "    </tr>\n",
       "    <tr>\n",
       "      <th>3</th>\n",
       "      <td>0.950</td>\n",
       "      <td>-0.151</td>\n",
       "      <td>-3.478</td>\n",
       "      <td>0.565</td>\n",
       "      <td>0.904</td>\n",
       "      <td>-0.043</td>\n",
       "      <td>0.861</td>\n",
       "      <td>-2.444</td>\n",
       "      <td>3</td>\n",
       "    </tr>\n",
       "    <tr>\n",
       "      <th>4</th>\n",
       "      <td>-0.103</td>\n",
       "      <td>0.411</td>\n",
       "      <td>-5.242</td>\n",
       "      <td>0.217</td>\n",
       "      <td>0.429</td>\n",
       "      <td>0.093</td>\n",
       "      <td>0.522</td>\n",
       "      <td>-2.570</td>\n",
       "      <td>4</td>\n",
       "    </tr>\n",
       "    <tr>\n",
       "      <th>5</th>\n",
       "      <td>0.144</td>\n",
       "      <td>1.454</td>\n",
       "      <td>-3.088</td>\n",
       "      <td>1.130</td>\n",
       "      <td>1.521</td>\n",
       "      <td>0.050</td>\n",
       "      <td>1.572</td>\n",
       "      <td>-3.028</td>\n",
       "      <td>5</td>\n",
       "    </tr>\n",
       "    <tr>\n",
       "      <th>6</th>\n",
       "      <td>0.761</td>\n",
       "      <td>0.122</td>\n",
       "      <td>-2.792</td>\n",
       "      <td>0.624</td>\n",
       "      <td>1.068</td>\n",
       "      <td>-0.046</td>\n",
       "      <td>1.022</td>\n",
       "      <td>-1.906</td>\n",
       "      <td>6</td>\n",
       "    </tr>\n",
       "    <tr>\n",
       "      <th>7</th>\n",
       "      <td>0.444</td>\n",
       "      <td>0.334</td>\n",
       "      <td>-1.306</td>\n",
       "      <td>0.550</td>\n",
       "      <td>2.000</td>\n",
       "      <td>-0.076</td>\n",
       "      <td>1.924</td>\n",
       "      <td>-0.377</td>\n",
       "      <td>7</td>\n",
       "    </tr>\n",
       "    <tr>\n",
       "      <th>8</th>\n",
       "      <td>1.494</td>\n",
       "      <td>-0.205</td>\n",
       "      <td>-2.340</td>\n",
       "      <td>0.911</td>\n",
       "      <td>1.469</td>\n",
       "      <td>0.060</td>\n",
       "      <td>1.529</td>\n",
       "      <td>-3.417</td>\n",
       "      <td>8</td>\n",
       "    </tr>\n",
       "    <tr>\n",
       "      <th>9</th>\n",
       "      <td>0.313</td>\n",
       "      <td>-0.854</td>\n",
       "      <td>-5.272</td>\n",
       "      <td>-0.383</td>\n",
       "      <td>-0.172</td>\n",
       "      <td>0.044</td>\n",
       "      <td>-0.128</td>\n",
       "      <td>-2.139</td>\n",
       "      <td>9</td>\n",
       "    </tr>\n",
       "  </tbody>\n",
       "</table>\n",
       "</div>"
      ],
      "text/plain": [
       "     x_0    x_1  unobserved_elast  unobserved_log_cost  \\\n",
       "0  1.764  0.400            -2.629                1.530   \n",
       "1  0.979  2.241            -1.413                2.277   \n",
       "2  1.868 -0.977            -4.423                0.630   \n",
       "3  0.950 -0.151            -3.478                0.565   \n",
       "4 -0.103  0.411            -5.242                0.217   \n",
       "5  0.144  1.454            -3.088                1.130   \n",
       "6  0.761  0.122            -2.792                0.624   \n",
       "7  0.444  0.334            -1.306                0.550   \n",
       "8  1.494 -0.205            -2.340                0.911   \n",
       "9  0.313 -0.854            -5.272               -0.383   \n",
       "\n",
       "   unobserved_log_optimal_price  instrument  log_price  log_sales  id  \n",
       "0                         2.009      -0.005      2.003     -2.034   0  \n",
       "1                         3.507       0.060      3.567     -3.198   1  \n",
       "2                         0.886      -0.008      0.878     -2.281   2  \n",
       "3                         0.904      -0.043      0.861     -2.444   3  \n",
       "4                         0.429       0.093      0.522     -2.570   4  \n",
       "5                         1.521       0.050      1.572     -3.028   5  \n",
       "6                         1.068      -0.046      1.022     -1.906   6  \n",
       "7                         2.000      -0.076      1.924     -0.377   7  \n",
       "8                         1.469       0.060      1.529     -3.417   8  \n",
       "9                        -0.172       0.044     -0.128     -2.139   9  "
      ]
     },
     "metadata": {},
     "output_type": "display_data"
    },
    {
     "data": {
      "text/html": [
       "<div>\n",
       "<style scoped>\n",
       "    .dataframe tbody tr th:only-of-type {\n",
       "        vertical-align: middle;\n",
       "    }\n",
       "\n",
       "    .dataframe tbody tr th {\n",
       "        vertical-align: top;\n",
       "    }\n",
       "\n",
       "    .dataframe thead th {\n",
       "        text-align: right;\n",
       "    }\n",
       "</style>\n",
       "<table border=\"1\" class=\"dataframe\">\n",
       "  <thead>\n",
       "    <tr style=\"text-align: right;\">\n",
       "      <th></th>\n",
       "      <th>x_0</th>\n",
       "      <th>x_1</th>\n",
       "      <th>unobserved_elast</th>\n",
       "      <th>unobserved_log_cost</th>\n",
       "      <th>unobserved_log_optimal_price</th>\n",
       "      <th>instrument</th>\n",
       "      <th>log_price</th>\n",
       "      <th>log_sales</th>\n",
       "      <th>id</th>\n",
       "    </tr>\n",
       "  </thead>\n",
       "  <tbody>\n",
       "    <tr>\n",
       "      <th>count</th>\n",
       "      <td>60000.000</td>\n",
       "      <td>60000.000</td>\n",
       "      <td>60000.000</td>\n",
       "      <td>60000.000</td>\n",
       "      <td>60000.000</td>\n",
       "      <td>60000.000</td>\n",
       "      <td>60000.000</td>\n",
       "      <td>60000.000</td>\n",
       "      <td>60000.000</td>\n",
       "    </tr>\n",
       "    <tr>\n",
       "      <th>mean</th>\n",
       "      <td>0.001</td>\n",
       "      <td>0.005</td>\n",
       "      <td>-3.987</td>\n",
       "      <td>0.004</td>\n",
       "      <td>0.416</td>\n",
       "      <td>-0.001</td>\n",
       "      <td>0.416</td>\n",
       "      <td>-1.247</td>\n",
       "      <td>29999.500</td>\n",
       "    </tr>\n",
       "    <tr>\n",
       "      <th>std</th>\n",
       "      <td>0.999</td>\n",
       "      <td>0.996</td>\n",
       "      <td>1.615</td>\n",
       "      <td>1.000</td>\n",
       "      <td>1.047</td>\n",
       "      <td>0.058</td>\n",
       "      <td>1.048</td>\n",
       "      <td>3.558</td>\n",
       "      <td>17320.652</td>\n",
       "    </tr>\n",
       "    <tr>\n",
       "      <th>min</th>\n",
       "      <td>-4.852</td>\n",
       "      <td>-3.980</td>\n",
       "      <td>-6.800</td>\n",
       "      <td>-4.274</td>\n",
       "      <td>-4.076</td>\n",
       "      <td>-0.100</td>\n",
       "      <td>-4.130</td>\n",
       "      <td>-23.232</td>\n",
       "      <td>0.000</td>\n",
       "    </tr>\n",
       "    <tr>\n",
       "      <th>25%</th>\n",
       "      <td>-0.676</td>\n",
       "      <td>-0.660</td>\n",
       "      <td>-5.387</td>\n",
       "      <td>-0.672</td>\n",
       "      <td>-0.293</td>\n",
       "      <td>-0.051</td>\n",
       "      <td>-0.292</td>\n",
       "      <td>-3.096</td>\n",
       "      <td>14999.750</td>\n",
       "    </tr>\n",
       "    <tr>\n",
       "      <th>50%</th>\n",
       "      <td>-0.002</td>\n",
       "      <td>0.008</td>\n",
       "      <td>-3.972</td>\n",
       "      <td>0.005</td>\n",
       "      <td>0.411</td>\n",
       "      <td>-0.001</td>\n",
       "      <td>0.408</td>\n",
       "      <td>-1.340</td>\n",
       "      <td>29999.500</td>\n",
       "    </tr>\n",
       "    <tr>\n",
       "      <th>75%</th>\n",
       "      <td>0.673</td>\n",
       "      <td>0.674</td>\n",
       "      <td>-2.581</td>\n",
       "      <td>0.679</td>\n",
       "      <td>1.114</td>\n",
       "      <td>0.049</td>\n",
       "      <td>1.114</td>\n",
       "      <td>0.594</td>\n",
       "      <td>44999.250</td>\n",
       "    </tr>\n",
       "    <tr>\n",
       "      <th>max</th>\n",
       "      <td>4.286</td>\n",
       "      <td>4.242</td>\n",
       "      <td>-1.200</td>\n",
       "      <td>4.325</td>\n",
       "      <td>5.335</td>\n",
       "      <td>0.100</td>\n",
       "      <td>5.432</td>\n",
       "      <td>20.178</td>\n",
       "      <td>59999.000</td>\n",
       "    </tr>\n",
       "  </tbody>\n",
       "</table>\n",
       "</div>"
      ],
      "text/plain": [
       "            x_0       x_1  unobserved_elast  unobserved_log_cost  \\\n",
       "count 60000.000 60000.000         60000.000            60000.000   \n",
       "mean      0.001     0.005            -3.987                0.004   \n",
       "std       0.999     0.996             1.615                1.000   \n",
       "min      -4.852    -3.980            -6.800               -4.274   \n",
       "25%      -0.676    -0.660            -5.387               -0.672   \n",
       "50%      -0.002     0.008            -3.972                0.005   \n",
       "75%       0.673     0.674            -2.581                0.679   \n",
       "max       4.286     4.242            -1.200                4.325   \n",
       "\n",
       "       unobserved_log_optimal_price  instrument  log_price  log_sales  \\\n",
       "count                     60000.000   60000.000  60000.000  60000.000   \n",
       "mean                          0.416      -0.001      0.416     -1.247   \n",
       "std                           1.047       0.058      1.048      3.558   \n",
       "min                          -4.076      -0.100     -4.130    -23.232   \n",
       "25%                          -0.293      -0.051     -0.292     -3.096   \n",
       "50%                           0.411      -0.001      0.408     -1.340   \n",
       "75%                           1.114       0.049      1.114      0.594   \n",
       "max                           5.335       0.100      5.432     20.178   \n",
       "\n",
       "             id  \n",
       "count 60000.000  \n",
       "mean  29999.500  \n",
       "std   17320.652  \n",
       "min       0.000  \n",
       "25%   14999.750  \n",
       "50%   29999.500  \n",
       "75%   44999.250  \n",
       "max   59999.000  "
      ]
     },
     "metadata": {},
     "output_type": "display_data"
    }
   ],
   "source": [
    "ivsim.info()\n",
    "print(df.shape)\n",
    "display(df.head(10))\n",
    "display(df.describe())"
   ]
  },
  {
   "cell_type": "markdown",
   "metadata": {},
   "source": [
    "## 0.c. naive regression and 2-stage least squares\n",
    "- linear regression of y on x is bad due to endogeneity of price\n",
    "- 2-stage least squares recovers true parameters well, because both stage1 and stage2 are linear"
   ]
  },
  {
   "cell_type": "code",
   "execution_count": 4,
   "metadata": {},
   "outputs": [],
   "source": [
    "from sklearn.linear_model import LinearRegression"
   ]
  },
  {
   "cell_type": "code",
   "execution_count": 5,
   "metadata": {},
   "outputs": [],
   "source": [
    "# restrict data sample to the same set we train stage2 models below for comparability purposes\n",
    "df = df_train.loc[(df_train['id']>=20000)&(df_train['id']<36000)].copy()"
   ]
  },
  {
   "cell_type": "code",
   "execution_count": 6,
   "metadata": {},
   "outputs": [
    {
     "name": "stdout",
     "output_type": "stream",
     "text": [
      "estmated coefficients on log_sales:\n"
     ]
    },
    {
     "data": {
      "text/html": [
       "<div>\n",
       "<style scoped>\n",
       "    .dataframe tbody tr th:only-of-type {\n",
       "        vertical-align: middle;\n",
       "    }\n",
       "\n",
       "    .dataframe tbody tr th {\n",
       "        vertical-align: top;\n",
       "    }\n",
       "\n",
       "    .dataframe thead th {\n",
       "        text-align: right;\n",
       "    }\n",
       "</style>\n",
       "<table border=\"1\" class=\"dataframe\">\n",
       "  <thead>\n",
       "    <tr style=\"text-align: right;\">\n",
       "      <th></th>\n",
       "      <th>true</th>\n",
       "      <th>naive regression</th>\n",
       "    </tr>\n",
       "  </thead>\n",
       "  <tbody>\n",
       "    <tr>\n",
       "      <th>log_price</th>\n",
       "      <td>-4.000</td>\n",
       "      <td>-0.707</td>\n",
       "    </tr>\n",
       "    <tr>\n",
       "      <th>x_0</th>\n",
       "      <td>0.707</td>\n",
       "      <td>-1.609</td>\n",
       "    </tr>\n",
       "    <tr>\n",
       "      <th>x_1</th>\n",
       "      <td>0.707</td>\n",
       "      <td>-1.636</td>\n",
       "    </tr>\n",
       "  </tbody>\n",
       "</table>\n",
       "</div>"
      ],
      "text/plain": [
       "            true  naive regression\n",
       "log_price -4.000            -0.707\n",
       "x_0        0.707            -1.609\n",
       "x_1        0.707            -1.636"
      ]
     },
     "metadata": {},
     "output_type": "display_data"
    }
   ],
   "source": [
    "# naive linear regression, suffers form endogeneity issues\n",
    "x_cols = ivsim.exog_x_cols + [ivsim.endog_x_col]\n",
    "y_col = ivsim.y_col\n",
    "model = LinearRegression()\n",
    "model.fit(df[x_cols], df[y_col])\n",
    "print(\"estmated coefficients on log_sales:\")\n",
    "display(pd.concat([pd.DataFrame({'true': ivsim.log_sales_coefs}), \n",
    "                   pd.DataFrame({'naive regression':model.coef_}, index=x_cols)], axis=1)\\\n",
    "            .sort_index())"
   ]
  },
  {
   "cell_type": "code",
   "execution_count": 7,
   "metadata": {},
   "outputs": [
    {
     "name": "stdout",
     "output_type": "stream",
     "text": [
      "estmated coefficients on log_sales:\n"
     ]
    },
    {
     "data": {
      "text/html": [
       "<div>\n",
       "<style scoped>\n",
       "    .dataframe tbody tr th:only-of-type {\n",
       "        vertical-align: middle;\n",
       "    }\n",
       "\n",
       "    .dataframe tbody tr th {\n",
       "        vertical-align: top;\n",
       "    }\n",
       "\n",
       "    .dataframe thead th {\n",
       "        text-align: right;\n",
       "    }\n",
       "</style>\n",
       "<table border=\"1\" class=\"dataframe\">\n",
       "  <thead>\n",
       "    <tr style=\"text-align: right;\">\n",
       "      <th></th>\n",
       "      <th>true</th>\n",
       "      <th>2sls</th>\n",
       "    </tr>\n",
       "  </thead>\n",
       "  <tbody>\n",
       "    <tr>\n",
       "      <th>log_price</th>\n",
       "      <td>-4.000</td>\n",
       "      <td>-3.936</td>\n",
       "    </tr>\n",
       "    <tr>\n",
       "      <th>x_0</th>\n",
       "      <td>0.707</td>\n",
       "      <td>0.675</td>\n",
       "    </tr>\n",
       "    <tr>\n",
       "      <th>x_1</th>\n",
       "      <td>0.707</td>\n",
       "      <td>0.648</td>\n",
       "    </tr>\n",
       "  </tbody>\n",
       "</table>\n",
       "</div>"
      ],
      "text/plain": [
       "            true   2sls\n",
       "log_price -4.000 -3.936\n",
       "x_0        0.707  0.675\n",
       "x_1        0.707  0.648"
      ]
     },
     "metadata": {},
     "output_type": "display_data"
    }
   ],
   "source": [
    "# now, 2-stage least squares, works quite well\n",
    "# stage1\n",
    "model1 = LinearRegression()\n",
    "xcols1, ycol1 = ['x_0', 'x_1', 'instrument'], 'log_price'\n",
    "model1.fit(df[xcols1], df[ycol1])\n",
    "# print(\"stage1 coefs\", model1.coef_)\n",
    "# stage2\n",
    "df['pred_log_price'] = model1.predict(df[xcols1])\n",
    "model2 = LinearRegression()\n",
    "xcols2, ycol2 = ['x_0', 'x_1', 'pred_log_price'], 'log_sales'\n",
    "model2.fit(df[xcols2], df[ycol2])\n",
    "print(\"estmated coefficients on log_sales:\")\n",
    "display(pd.concat([pd.DataFrame({'true': ivsim.log_sales_coefs}), \n",
    "                   pd.DataFrame({'2sls':model2.coef_}, index=x_cols)], axis=1)\\\n",
    "            .sort_index())"
   ]
  },
  {
   "cell_type": "markdown",
   "metadata": {},
   "source": [
    "### 1.a. some helper functions"
   ]
  },
  {
   "cell_type": "code",
   "execution_count": 8,
   "metadata": {},
   "outputs": [],
   "source": [
    "#  we'll be doing some experiments where we use the true quantiles to test\n",
    "#  just the second stage of the NonparmatricIV process, an in order to do that\n",
    "#  we'll need a class for producing true quantiles in this synthetic example\n",
    "class TrueQtlModel:\n",
    "    \"\"\"\n",
    "    A model object for producing true quantiles of the IVSimulator model created above\n",
    "    \"\"\"\n",
    "    elast_max = ivsim.elast_max\n",
    "    elast_min = ivsim.elast_min\n",
    "    log_cost_coefs = ivsim.log_cost_coefs\n",
    "    exog_x_cols = ivsim.exog_x_cols\n",
    "    instrument_col = ivsim.instrument_col\n",
    "    def __init__(self, alpha:float):\n",
    "        \"\"\"\n",
    "        Params:\n",
    "            alpha: the quantile to predict, between 0 and 1\n",
    "        \"\"\"\n",
    "        self.alpha = alpha\n",
    "    def feature_name(self):\n",
    "        return self.exog_x_cols + [self.instrument_col]\n",
    "    def predict(self, df:pd.DataFrame):\n",
    "        elast_qtl = self.alpha * (self.elast_max - self.elast_min) + self.elast_min \n",
    "        log_costs = iv_simulator.generate_log_costs(df[self.exog_x_cols], self.log_cost_coefs)\n",
    "        log_price_qtl = iv_simulator.generate_log_optimal_prices(log_costs, elast_qtl) + df[self.instrument_col]\n",
    "        return log_price_qtl"
   ]
  },
  {
   "cell_type": "code",
   "execution_count": 9,
   "metadata": {},
   "outputs": [],
   "source": [
    "# we'll want to look at how the stage1 predicted quantiles look\n",
    "def plot_qtls_vs_true(npiv_model:NonparametricIV, df:pd.DataFrame):\n",
    "    \"\"\"\n",
    "    Plots the estimated stage1_models of npiv_model against the true quantiles.\n",
    "    This is done by taking the stage1 model for each quantile, constructing the\n",
    "    corresponding true quantile predictor, and plotting the predicted vs true.\n",
    "    \n",
    "    Args:\n",
    "        npiv_model: NonparametricIV object with stage1_models defined\n",
    "        df: a pandas dataframe that npiv_model.predict can be called on\n",
    "    \"\"\"\n",
    "    qtl_df = npiv_model.predict_stage1(plot_df, prefix='predicted_qtl')\n",
    "    ncols=4\n",
    "    nrows = int(np.ceil(len(npiv_model.stage1_qtls)/ncols))\n",
    "    fig, axes = plt.subplots(nrows=nrows, ncols=ncols, figsize=(3*ncols, 3*nrows), \n",
    "                             sharex=True, sharey=True)\n",
    "\n",
    "    for i, alpha in enumerate(npiv_model.stage1_qtls):\n",
    "        true_model = TrueQtlModel(alpha)\n",
    "        true_qtls = true_model.predict(df)\n",
    "        pred_col = \"predicted_qtl_{:.3f}\".format(alpha)\n",
    "        tmp_df = pd.DataFrame({'true':true_qtls, 'predicted':qtl_df[pred_col]})\n",
    "        ax = axes[i//ncols][i%ncols]\n",
    "        tmp_df.plot(x='true', y = 'predicted', ax=ax, kind='scatter',\n",
    "                     alpha=.3, s=3, title=\"{:.3f}-quantile\".format(alpha), grid=True)\n",
    "        # also plot the 45-degree line\n",
    "        min45, max45 = tmp_df['true'].min(), tmp_df['true'].max()\n",
    "        ax.plot([min45, max45], [min45, max45], color='red', alpha=.3)\n",
    "    plt.suptitle(\"comparison of predicted vs true quantiles, with  45-degree line in red\")\n",
    "    plt.tight_layout()\n",
    "    plt.subplots_adjust(top=0.9)"
   ]
  },
  {
   "cell_type": "code",
   "execution_count": 10,
   "metadata": {},
   "outputs": [],
   "source": [
    "#helper function for plotting implied marginal effects of nonparametric IV models\n",
    "def plot_performance_and_implied_margin_effects_vs_iteration(model, df_test, metric_name = 'grouped sse', \n",
    "                                                             num_grid_pts=50):\n",
    "    '''\n",
    "    function to compute and plot the distribution of marginal effects of a model,\n",
    "        with respect to each of the model features, at the various points defined\n",
    "        by df_tests    \n",
    "    model should be some NonparametricIv.stage2_model when trained with 'lgb' option\n",
    "    df_test should be some hold-out data\n",
    "    '''\n",
    "    eval_results = model.eval_results['val'][metric_name]\n",
    "    num_iters = len(eval_results)\n",
    "    # generate time series of marginal effects\n",
    "    dfs_to_concat = []\n",
    "    for num_iteration in np.linspace(1,num_iters, num_grid_pts, dtype=int):\n",
    "        print(num_iteration, end=\" \")\n",
    "        mfx = model.marginal_effect_plots(df_test, plot=False, predict_kwargs={'num_iteration':num_iteration})\n",
    "        tmp_df = mfx.groupby('feature name').describe().transpose().reset_index(level=0,drop=True)\\\n",
    "                    .reset_index().rename(columns={'index':'stat'})\n",
    "        tmp_df.columns.name=None\n",
    "        tmp_df['num_iteration'] = num_iteration\n",
    "        tmp_df.set_index(['num_iteration', 'stat'], inplace=True)\n",
    "        dfs_to_concat.append(tmp_df)\n",
    "    desc_df = pd.concat(dfs_to_concat)\n",
    "    fig, axes = plt.subplots(nrows=desc_df.shape[1]+1, ncols=1, figsize=(10, (desc_df.shape[1]+1)*1.5), sharex=True)\n",
    "    # plot performance\n",
    "    ax = axes[0]\n",
    "    ax.grid()\n",
    "    best_num_trees = np.argmin(eval_results)\n",
    "    print(\"best iteration = {}\".format(best_num_trees))\n",
    "    best_perf, final_perf = eval_results[best_num_trees], eval_results[-1]\n",
    "    ax.plot(eval_results)\n",
    "    ax.axvline(best_num_trees, linewidth=1)\n",
    "    ax.set_yscale('log')\n",
    "    ax.set_title(\"hold-out performance ({}), blue=best={:.3E}, final={:.3E}\"\\\n",
    "                 .format(metric_name, best_perf, final_perf))\n",
    "    # plot marginal effects\n",
    "    for i,c in enumerate(desc_df.columns):\n",
    "        tmp_df = desc_df.loc[pd.IndexSlice[:, ['mean', 'min', 'max', '25%', '75%']],c].unstack()\n",
    "        ax = axes[i+1]\n",
    "        ax.grid()\n",
    "        # plot the true marginal effects\n",
    "        if c=='log_price_synthetic':\n",
    "            true_mfx = ivsim.log_sales_coefs.loc['log_price']\n",
    "        else:\n",
    "            true_mfx = ivsim.log_sales_coefs.loc[c]\n",
    "        ax.axhline(true_mfx, color='red', linewidth=1)\n",
    "        ax.axvline(best_num_trees, color='blue', linewidth=1)\n",
    "        # plot the model implied marignal effects\n",
    "        ax.plot(tmp_df['mean'], color='black', linestyle='-')\n",
    "        ax.plot(tmp_df['25%'], color='black', linestyle='-.')\n",
    "        ax.plot(tmp_df['75%'], color='black', linestyle='-.')\n",
    "        ax.set_title('mean and quartiles of marginal effects of `{}`, red = truth'.format(c))\n",
    "    plt.xlabel(\"number of trees trained\")\n",
    "    plt.tight_layout()"
   ]
  },
  {
   "cell_type": "markdown",
   "metadata": {},
   "source": [
    "# 1. Headline result: NonparametricIV all the way through\n",
    "- nonparametrically estimate quantiles of endogenous x (`log_price`) as a function of exogenous x and instrument using LightGBM with the quantile objective\n",
    "- use these estimate quantiles as input into the second stage, where we nonparametrically estimate the effect of exogenous x and `log_price` on `log_sales`, using LightGBM with a grouped L2 objective"
   ]
  },
  {
   "cell_type": "markdown",
   "metadata": {},
   "source": [
    "## 1.a. Stage1 models for predicting various quantiles of `log_price`\n",
    "- predicted quantiles look quite accurate\n",
    "- though less accurate on the higher end"
   ]
  },
  {
   "cell_type": "code",
   "execution_count": 11,
   "metadata": {},
   "outputs": [],
   "source": [
    "npiv_headline =  NonparametricIV(df=df_train,\n",
    "                                 exog_x_cols=ivsim.exog_x_cols, \n",
    "                                 instrument_cols = ['instrument'],\n",
    "                                 endog_x_col=ivsim.endog_x_col,\n",
    "                                 y_col=ivsim.y_col,\n",
    "                                 id_col='id',\n",
    "                                 stage2_model_type='lgb',\n",
    "                                 stage2_objective='true')"
   ]
  },
  {
   "cell_type": "code",
   "execution_count": 12,
   "metadata": {},
   "outputs": [
    {
     "name": "stdout",
     "output_type": "stream",
     "text": [
      "alpha=0.050\n",
      "Training until validation scores don't improve for 100 rounds.\n"
     ]
    },
    {
     "name": "stderr",
     "output_type": "stream",
     "text": [
      "/opt/conda/lib/python3.6/site-packages/lightgbm/engine.py:107: UserWarning: Found `num_iterations` in params. Will use it instead of argument\n",
      "  warnings.warn(\"Found `{}` in params. Will use it instead of argument\".format(alias))\n",
      "/opt/conda/lib/python3.6/site-packages/lightgbm/engine.py:112: UserWarning: Found `early_stopping_round` in params. Will use it instead of argument\n",
      "  warnings.warn(\"Found `{}` in params. Will use it instead of argument\".format(alias))\n"
     ]
    },
    {
     "name": "stdout",
     "output_type": "stream",
     "text": [
      "[200]\ttrain's quantile: 0.0159327\tval's quantile: 0.0162227\n",
      "[400]\ttrain's quantile: 0.0131931\tval's quantile: 0.0135859\n",
      "[600]\ttrain's quantile: 0.0127933\tval's quantile: 0.0132321\n",
      "[800]\ttrain's quantile: 0.0127346\tval's quantile: 0.0131967\n",
      "[1000]\ttrain's quantile: 0.0127086\tval's quantile: 0.0131858\n",
      "Did not meet early stopping. Best iteration is:\n",
      "[1000]\ttrain's quantile: 0.0127086\tval's quantile: 0.0131858\n",
      "alpha=0.150\n",
      "Training until validation scores don't improve for 100 rounds.\n",
      "[200]\ttrain's quantile: 0.0375587\tval's quantile: 0.0384904\n",
      "[400]\ttrain's quantile: 0.0363458\tval's quantile: 0.0374518\n",
      "Early stopping, best iteration is:\n",
      "[491]\ttrain's quantile: 0.0362637\tval's quantile: 0.0374063\n",
      "alpha=0.250\n",
      "Training until validation scores don't improve for 100 rounds.\n",
      "[200]\ttrain's quantile: 0.0581568\tval's quantile: 0.0597427\n",
      "[400]\ttrain's quantile: 0.0575942\tval's quantile: 0.0594208\n",
      "Early stopping, best iteration is:\n",
      "[405]\ttrain's quantile: 0.0575916\tval's quantile: 0.0594127\n",
      "alpha=0.350\n",
      "Training until validation scores don't improve for 100 rounds.\n",
      "[200]\ttrain's quantile: 0.0767674\tval's quantile: 0.0792321\n",
      "[400]\ttrain's quantile: 0.0762305\tval's quantile: 0.0790796\n",
      "Early stopping, best iteration is:\n",
      "[336]\ttrain's quantile: 0.0763283\tval's quantile: 0.0790546\n",
      "alpha=0.450\n",
      "Training until validation scores don't improve for 100 rounds.\n",
      "[200]\ttrain's quantile: 0.0921607\tval's quantile: 0.0956541\n",
      "Early stopping, best iteration is:\n",
      "[193]\ttrain's quantile: 0.0921997\tval's quantile: 0.0956249\n",
      "alpha=0.550\n",
      "Training until validation scores don't improve for 100 rounds.\n",
      "[200]\ttrain's quantile: 0.103461\tval's quantile: 0.108014\n",
      "Early stopping, best iteration is:\n",
      "[235]\ttrain's quantile: 0.103284\tval's quantile: 0.107955\n",
      "alpha=0.650\n",
      "Training until validation scores don't improve for 100 rounds.\n",
      "[200]\ttrain's quantile: 0.109073\tval's quantile: 0.114972\n",
      "Early stopping, best iteration is:\n",
      "[149]\ttrain's quantile: 0.10962\tval's quantile: 0.114869\n",
      "alpha=0.750\n",
      "Training until validation scores don't improve for 100 rounds.\n",
      "[200]\ttrain's quantile: 0.106177\tval's quantile: 0.113342\n",
      "Early stopping, best iteration is:\n",
      "[133]\ttrain's quantile: 0.107042\tval's quantile: 0.112892\n",
      "alpha=0.850\n",
      "Training until validation scores don't improve for 100 rounds.\n",
      "[200]\ttrain's quantile: 0.08924\tval's quantile: 0.0976649\n",
      "Early stopping, best iteration is:\n",
      "[128]\ttrain's quantile: 0.0903268\tval's quantile: 0.0971468\n",
      "alpha=0.950\n",
      "Training until validation scores don't improve for 100 rounds.\n",
      "[200]\ttrain's quantile: 0.0452615\tval's quantile: 0.0516878\n",
      "Early stopping, best iteration is:\n",
      "[119]\ttrain's quantile: 0.0464874\tval's quantile: 0.0513131\n",
      "CPU times: user 15.8 s, sys: 196 ms, total: 16 s\n",
      "Wall time: 4.02 s\n"
     ]
    }
   ],
   "source": [
    "%%time\n",
    "npiv_headline.train_stage1()"
   ]
  },
  {
   "cell_type": "code",
   "execution_count": 13,
   "metadata": {},
   "outputs": [
    {
     "name": "stdout",
     "output_type": "stream",
     "text": [
      "CPU times: user 2.5 s, sys: 1.19 s, total: 3.7 s\n",
      "Wall time: 1.19 s\n"
     ]
    },
    {
     "data": {
      "image/png": "[encoded data removed]",
      "text/plain": [
       "<Figure size 864x648 with 12 Axes>"
      ]
     },
     "metadata": {},
     "output_type": "display_data"
    }
   ],
   "source": [
    "%%time\n",
    "# look at quantiles on aggregate\n",
    "plot_df = df.sample(5000)\n",
    "plot_qtls_vs_true(npiv_headline, plot_df)"
   ]
  },
  {
   "cell_type": "markdown",
   "metadata": {},
   "source": [
    "## 1.b. Stage2 model for estimating the impact of exogenous x and `log_price` on `log_sales`\n",
    "- stage2 model's implied marginal effects are not quite ideal, but much better than ignoring endogeniety\n",
    "- however, high variance in estimates\n",
    "    - e.g. true coefficient on `log_price` is -4 for all observations, where we have std of around -5 for the implied marignal effects\n",
    "    - this high variance is due to the estimated model being fairly jagged relative to the truth, so likely there is some smoothing that can be done to make the model a bit better behaved\n",
    "- furthermore, if we were to use the validation set for early stopping, then the implied marginal effects would be quite bad\n",
    "- though it doesn't seem like training for longer beyond the optimal early stopping time does much to degrade performance"
   ]
  },
  {
   "cell_type": "code",
   "execution_count": 14,
   "metadata": {},
   "outputs": [
    {
     "name": "stderr",
     "output_type": "stream",
     "text": [
      "/opt/conda/lib/python3.6/site-packages/lightgbm/engine.py:107: UserWarning: Found `num_iterations` in params. Will use it instead of argument\n",
      "  warnings.warn(\"Found `{}` in params. Will use it instead of argument\".format(alias))\n"
     ]
    },
    {
     "name": "stdout",
     "output_type": "stream",
     "text": [
      "[1000]\ttrain's grouped sse: 7.14968e+06\tval's grouped sse: 1.84962e+06\n",
      "[2000]\ttrain's grouped sse: 7.10376e+06\tval's grouped sse: 1.86315e+06\n",
      "[3000]\ttrain's grouped sse: 7.09012e+06\tval's grouped sse: 1.86858e+06\n",
      "[4000]\ttrain's grouped sse: 7.08148e+06\tval's grouped sse: 1.87141e+06\n",
      "[5000]\ttrain's grouped sse: 7.07826e+06\tval's grouped sse: 1.87494e+06\n",
      "[6000]\ttrain's grouped sse: 7.0753e+06\tval's grouped sse: 1.87352e+06\n",
      "[7000]\ttrain's grouped sse: 7.07384e+06\tval's grouped sse: 1.87676e+06\n",
      "[8000]\ttrain's grouped sse: 7.07254e+06\tval's grouped sse: 1.87487e+06\n",
      "[9000]\ttrain's grouped sse: 7.07166e+06\tval's grouped sse: 1.87815e+06\n",
      "[10000]\ttrain's grouped sse: 7.07163e+06\tval's grouped sse: 1.87763e+06\n",
      "CPU times: user 29min 17s, sys: 8.4 s, total: 29min 26s\n",
      "Wall time: 9min 42s\n"
     ]
    }
   ],
   "source": [
    "%%time\n",
    "npiv_headline.train_stage2()\n",
    "model = npiv_headline.stage2_model"
   ]
  },
  {
   "cell_type": "code",
   "execution_count": 15,
   "metadata": {},
   "outputs": [
    {
     "data": {
      "text/html": [
       "<div>\n",
       "<style scoped>\n",
       "    .dataframe tbody tr th:only-of-type {\n",
       "        vertical-align: middle;\n",
       "    }\n",
       "\n",
       "    .dataframe tbody tr th {\n",
       "        vertical-align: top;\n",
       "    }\n",
       "\n",
       "    .dataframe thead tr th {\n",
       "        text-align: left;\n",
       "    }\n",
       "\n",
       "    .dataframe thead tr:last-of-type th {\n",
       "        text-align: right;\n",
       "    }\n",
       "</style>\n",
       "<table border=\"1\" class=\"dataframe\">\n",
       "  <thead>\n",
       "    <tr>\n",
       "      <th></th>\n",
       "      <th colspan=\"7\" halign=\"left\">marginal effect</th>\n",
       "    </tr>\n",
       "    <tr>\n",
       "      <th></th>\n",
       "      <th>mean</th>\n",
       "      <th>std</th>\n",
       "      <th>min</th>\n",
       "      <th>25%</th>\n",
       "      <th>50%</th>\n",
       "      <th>75%</th>\n",
       "      <th>max</th>\n",
       "    </tr>\n",
       "    <tr>\n",
       "      <th>feature name</th>\n",
       "      <th></th>\n",
       "      <th></th>\n",
       "      <th></th>\n",
       "      <th></th>\n",
       "      <th></th>\n",
       "      <th></th>\n",
       "      <th></th>\n",
       "    </tr>\n",
       "  </thead>\n",
       "  <tbody>\n",
       "    <tr>\n",
       "      <th>log_price</th>\n",
       "      <td>-3.097</td>\n",
       "      <td>5.219</td>\n",
       "      <td>-20.160</td>\n",
       "      <td>-5.719</td>\n",
       "      <td>-2.985</td>\n",
       "      <td>-0.004</td>\n",
       "      <td>19.996</td>\n",
       "    </tr>\n",
       "    <tr>\n",
       "      <th>x_0</th>\n",
       "      <td>-0.024</td>\n",
       "      <td>1.668</td>\n",
       "      <td>-4.648</td>\n",
       "      <td>-1.061</td>\n",
       "      <td>-0.135</td>\n",
       "      <td>1.133</td>\n",
       "      <td>6.292</td>\n",
       "    </tr>\n",
       "    <tr>\n",
       "      <th>x_1</th>\n",
       "      <td>-0.039</td>\n",
       "      <td>1.686</td>\n",
       "      <td>-7.788</td>\n",
       "      <td>-1.044</td>\n",
       "      <td>0.105</td>\n",
       "      <td>0.965</td>\n",
       "      <td>6.457</td>\n",
       "    </tr>\n",
       "  </tbody>\n",
       "</table>\n",
       "</div>"
      ],
      "text/plain": [
       "             marginal effect                                          \n",
       "                        mean   std     min    25%    50%    75%    max\n",
       "feature name                                                          \n",
       "log_price             -3.097 5.219 -20.160 -5.719 -2.985 -0.004 19.996\n",
       "x_0                   -0.024 1.668  -4.648 -1.061 -0.135  1.133  6.292\n",
       "x_1                   -0.039 1.686  -7.788 -1.044  0.105  0.965  6.457"
      ]
     },
     "metadata": {},
     "output_type": "display_data"
    },
    {
     "name": "stdout",
     "output_type": "stream",
     "text": [
      "1 5000 10000 best iteration = 570\n",
      "CPU times: user 2min 22s, sys: 488 ms, total: 2min 22s\n",
      "Wall time: 36.2 s\n"
     ]
    },
    {
     "data": {
      "image/png": "[encoded data removed]",
      "text/plain": [
       "<Figure size 720x432 with 4 Axes>"
      ]
     },
     "metadata": {},
     "output_type": "display_data"
    }
   ],
   "source": [
    "%%time\n",
    "# print some marginal effects implied by the model\n",
    "marginal_fx = model.marginal_effect_plots(df_test, plot=False)\n",
    "display(marginal_fx.groupby('feature name').describe().drop(('marginal effect', 'count'), axis=1))\n",
    "# and plot how the distribution of these marginal effects evolve as we train more iterations\n",
    "plot_performance_and_implied_margin_effects_vs_iteration(model, df_test, metric_name='grouped sse', num_grid_pts=50)"
   ]
  },
  {
   "cell_type": "code",
   "execution_count": 16,
   "metadata": {},
   "outputs": [
    {
     "ename": "KeyboardInterrupt",
     "evalue": "",
     "output_type": "error",
     "traceback": [
      "\u001b[0;31m---------------------------------------------------------------------------\u001b[0m",
      "\u001b[0;31mKeyboardInterrupt\u001b[0m                         Traceback (most recent call last)",
      "\u001b[0;32m<ipython-input-16-5baaf92b4bec>\u001b[0m in \u001b[0;36m<module>\u001b[0;34m()\u001b[0m\n\u001b[1;32m      6\u001b[0m \u001b[0;31m#  as the effects of each of these variables on the model is much more\u001b[0m\u001b[0;34m\u001b[0m\u001b[0;34m\u001b[0m\u001b[0m\n\u001b[1;32m      7\u001b[0m \u001b[0;31m#  jagged relative to the truth\u001b[0m\u001b[0;34m\u001b[0m\u001b[0;34m\u001b[0m\u001b[0m\n\u001b[0;32m----> 8\u001b[0;31m \u001b[0mmodel\u001b[0m\u001b[0;34m.\u001b[0m\u001b[0mpartial_dependency_plots\u001b[0m\u001b[0;34m(\u001b[0m\u001b[0mdf_test\u001b[0m\u001b[0;34m)\u001b[0m\u001b[0;34m\u001b[0m\u001b[0m\n\u001b[0m",
      "\u001b[0;32m~/npiv/npiv/model_wrapper.py\u001b[0m in \u001b[0;36mpartial_dependency_plots\u001b[0;34m(self, df, x_cols, num_grid_points, sample_n, plot)\u001b[0m\n\u001b[1;32m    133\u001b[0m         \u001b[0;31m# concatenate it and use the model to predict\u001b[0m\u001b[0;34m\u001b[0m\u001b[0;34m\u001b[0m\u001b[0m\n\u001b[1;32m    134\u001b[0m         \u001b[0mdf_big\u001b[0m \u001b[0;34m=\u001b[0m \u001b[0mpd\u001b[0m\u001b[0;34m.\u001b[0m\u001b[0mconcat\u001b[0m\u001b[0;34m(\u001b[0m\u001b[0mdfs_to_concat\u001b[0m\u001b[0;34m)\u001b[0m\u001b[0;34m\u001b[0m\u001b[0m\n\u001b[0;32m--> 135\u001b[0;31m         \u001b[0mdf_big\u001b[0m\u001b[0;34m[\u001b[0m\u001b[0;34m'yhat'\u001b[0m\u001b[0;34m]\u001b[0m \u001b[0;34m=\u001b[0m \u001b[0mself\u001b[0m\u001b[0;34m.\u001b[0m\u001b[0mmodel\u001b[0m\u001b[0;34m.\u001b[0m\u001b[0mpredict\u001b[0m\u001b[0;34m(\u001b[0m\u001b[0mdf_big\u001b[0m\u001b[0;34m[\u001b[0m\u001b[0mself\u001b[0m\u001b[0;34m.\u001b[0m\u001b[0mmodel\u001b[0m\u001b[0;34m.\u001b[0m\u001b[0mfeature_name\u001b[0m\u001b[0;34m(\u001b[0m\u001b[0;34m)\u001b[0m\u001b[0;34m]\u001b[0m\u001b[0;34m)\u001b[0m\u001b[0;34m\u001b[0m\u001b[0m\n\u001b[0m\u001b[1;32m    136\u001b[0m         \u001b[0;31m# now, groupby the x-column and the x-point and generate mean/quantiles\u001b[0m\u001b[0;34m\u001b[0m\u001b[0;34m\u001b[0m\u001b[0m\n\u001b[1;32m    137\u001b[0m         \u001b[0mdf_summarized\u001b[0m \u001b[0;34m=\u001b[0m \u001b[0mdf_big\u001b[0m\u001b[0;34m.\u001b[0m\u001b[0mgroupby\u001b[0m\u001b[0;34m(\u001b[0m\u001b[0;34m[\u001b[0m\u001b[0;34m'x_col'\u001b[0m\u001b[0;34m,\u001b[0m \u001b[0;34m'x_point'\u001b[0m\u001b[0;34m]\u001b[0m\u001b[0;34m)\u001b[0m\u001b[0;34m[\u001b[0m\u001b[0;34m'yhat'\u001b[0m\u001b[0;34m]\u001b[0m\u001b[0;34m.\u001b[0m\u001b[0mdescribe\u001b[0m\u001b[0;34m(\u001b[0m\u001b[0;34m)\u001b[0m\u001b[0;34m\u001b[0m\u001b[0m\n",
      "\u001b[0;32m/opt/conda/lib/python3.6/site-packages/lightgbm/basic.py\u001b[0m in \u001b[0;36mpredict\u001b[0;34m(self, data, num_iteration, raw_score, pred_leaf, pred_contrib, data_has_header, is_reshape, pred_parameter, **kwargs)\u001b[0m\n\u001b[1;32m   1857\u001b[0m         \u001b[0;32mif\u001b[0m \u001b[0mnum_iteration\u001b[0m \u001b[0;34m<=\u001b[0m \u001b[0;36m0\u001b[0m\u001b[0;34m:\u001b[0m\u001b[0;34m\u001b[0m\u001b[0m\n\u001b[1;32m   1858\u001b[0m             \u001b[0mnum_iteration\u001b[0m \u001b[0;34m=\u001b[0m \u001b[0mself\u001b[0m\u001b[0;34m.\u001b[0m\u001b[0mbest_iteration\u001b[0m\u001b[0;34m\u001b[0m\u001b[0m\n\u001b[0;32m-> 1859\u001b[0;31m         \u001b[0;32mreturn\u001b[0m \u001b[0mpredictor\u001b[0m\u001b[0;34m.\u001b[0m\u001b[0mpredict\u001b[0m\u001b[0;34m(\u001b[0m\u001b[0mdata\u001b[0m\u001b[0;34m,\u001b[0m \u001b[0mnum_iteration\u001b[0m\u001b[0;34m,\u001b[0m \u001b[0mraw_score\u001b[0m\u001b[0;34m,\u001b[0m \u001b[0mpred_leaf\u001b[0m\u001b[0;34m,\u001b[0m \u001b[0mpred_contrib\u001b[0m\u001b[0;34m,\u001b[0m \u001b[0mdata_has_header\u001b[0m\u001b[0;34m,\u001b[0m \u001b[0mis_reshape\u001b[0m\u001b[0;34m)\u001b[0m\u001b[0;34m\u001b[0m\u001b[0m\n\u001b[0m\u001b[1;32m   1860\u001b[0m \u001b[0;34m\u001b[0m\u001b[0m\n\u001b[1;32m   1861\u001b[0m     \u001b[0;32mdef\u001b[0m \u001b[0mget_leaf_output\u001b[0m\u001b[0;34m(\u001b[0m\u001b[0mself\u001b[0m\u001b[0;34m,\u001b[0m \u001b[0mtree_id\u001b[0m\u001b[0;34m,\u001b[0m \u001b[0mleaf_id\u001b[0m\u001b[0;34m)\u001b[0m\u001b[0;34m:\u001b[0m\u001b[0;34m\u001b[0m\u001b[0m\n",
      "\u001b[0;32m/opt/conda/lib/python3.6/site-packages/lightgbm/basic.py\u001b[0m in \u001b[0;36mpredict\u001b[0;34m(self, data, num_iteration, raw_score, pred_leaf, pred_contrib, data_has_header, is_reshape)\u001b[0m\n\u001b[1;32m    438\u001b[0m         \u001b[0;32melif\u001b[0m \u001b[0misinstance\u001b[0m\u001b[0;34m(\u001b[0m\u001b[0mdata\u001b[0m\u001b[0;34m,\u001b[0m \u001b[0mnp\u001b[0m\u001b[0;34m.\u001b[0m\u001b[0mndarray\u001b[0m\u001b[0;34m)\u001b[0m\u001b[0;34m:\u001b[0m\u001b[0;34m\u001b[0m\u001b[0m\n\u001b[1;32m    439\u001b[0m             preds, nrow = self.__pred_for_np2d(data, num_iteration,\n\u001b[0;32m--> 440\u001b[0;31m                                                predict_type)\n\u001b[0m\u001b[1;32m    441\u001b[0m         \u001b[0;32melif\u001b[0m \u001b[0misinstance\u001b[0m\u001b[0;34m(\u001b[0m\u001b[0mdata\u001b[0m\u001b[0;34m,\u001b[0m \u001b[0mlist\u001b[0m\u001b[0;34m)\u001b[0m\u001b[0;34m:\u001b[0m\u001b[0;34m\u001b[0m\u001b[0m\n\u001b[1;32m    442\u001b[0m             \u001b[0;32mtry\u001b[0m\u001b[0;34m:\u001b[0m\u001b[0;34m\u001b[0m\u001b[0m\n",
      "\u001b[0;32m/opt/conda/lib/python3.6/site-packages/lightgbm/basic.py\u001b[0m in \u001b[0;36m__pred_for_np2d\u001b[0;34m(self, mat, num_iteration, predict_type)\u001b[0m\n\u001b[1;32m    505\u001b[0m             \u001b[0mc_str\u001b[0m\u001b[0;34m(\u001b[0m\u001b[0mself\u001b[0m\u001b[0;34m.\u001b[0m\u001b[0mpred_parameter\u001b[0m\u001b[0;34m)\u001b[0m\u001b[0;34m,\u001b[0m\u001b[0;34m\u001b[0m\u001b[0m\n\u001b[1;32m    506\u001b[0m             \u001b[0mctypes\u001b[0m\u001b[0;34m.\u001b[0m\u001b[0mbyref\u001b[0m\u001b[0;34m(\u001b[0m\u001b[0mout_num_preds\u001b[0m\u001b[0;34m)\u001b[0m\u001b[0;34m,\u001b[0m\u001b[0;34m\u001b[0m\u001b[0m\n\u001b[0;32m--> 507\u001b[0;31m             preds.ctypes.data_as(ctypes.POINTER(ctypes.c_double))))\n\u001b[0m\u001b[1;32m    508\u001b[0m         \u001b[0;32mif\u001b[0m \u001b[0mn_preds\u001b[0m \u001b[0;34m!=\u001b[0m \u001b[0mout_num_preds\u001b[0m\u001b[0;34m.\u001b[0m\u001b[0mvalue\u001b[0m\u001b[0;34m:\u001b[0m\u001b[0;34m\u001b[0m\u001b[0m\n\u001b[1;32m    509\u001b[0m             \u001b[0;32mraise\u001b[0m \u001b[0mValueError\u001b[0m\u001b[0;34m(\u001b[0m\u001b[0;34m\"Wrong length for predict results\"\u001b[0m\u001b[0;34m)\u001b[0m\u001b[0;34m\u001b[0m\u001b[0m\n",
      "\u001b[0;31mKeyboardInterrupt\u001b[0m: "
     ]
    }
   ],
   "source": [
    "# plot some partial dependency plots = avgs/quantiles of output of estimated\n",
    "#  stage2-model as we exogenously vary each of the features.\n",
    "# in the true model, these would all be monotonic straight lines,\n",
    "#  but they're clearly quite non-monotone and jagged here.\n",
    "# as a result, the implied marginal effects will tend to be quite noisy\n",
    "#  as the effects of each of these variables on the model is much more \n",
    "#  jagged relative to the truth\n",
    "model.partial_dependency_plots(df_test)"
   ]
  },
  {
   "cell_type": "markdown",
   "metadata": {},
   "source": [
    "## 1.c. re-estimate stage2 assuming linear functional form rather than doing this nonparametric LGB thing\n",
    "- estimated coefficients still differ from truth, even moreso then the nonparametric LGB-based thing above\n",
    "- thus, the reason for the imperfect performance is likely the first-stage"
   ]
  },
  {
   "cell_type": "code",
   "execution_count": null,
   "metadata": {},
   "outputs": [],
   "source": [
    "# take the stage1 models generated previously, and use them to initialize\n",
    "#  a new NPIV model object that uses these stage1 models directly.\n",
    "npiv_linear =  NonparametricIV(df=df_train,\n",
    "                                 exog_x_cols=ivsim.exog_x_cols, \n",
    "                                 instrument_cols = ['instrument'],\n",
    "                                 endog_x_col=ivsim.endog_x_col,\n",
    "                                 y_col=ivsim.y_col,\n",
    "                                 id_col='id',\n",
    "                                 stage1_models = npiv_headline.stage1_models,\n",
    "                                 stage2_model_type='linear',\n",
    "                                 stage2_objective='true')"
   ]
  },
  {
   "cell_type": "code",
   "execution_count": null,
   "metadata": {},
   "outputs": [],
   "source": [
    "%%time\n",
    "npiv_linear.train_stage2()\n",
    "model = npiv_linear.stage2_model\n",
    "display(pd.DataFrame({'estimated stage2 coefficients':model.coef_}, index=model.feature_name()).sort_index())"
   ]
  },
  {
   "cell_type": "code",
   "execution_count": null,
   "metadata": {},
   "outputs": [],
   "source": [
    "# the data begin used to train the linear stage2 model here is the same as the one used to train\n",
    "#  the stage2 model in npiv_headline, so the comparison is valid\n",
    "pd.testing.assert_frame_equal(npiv_linear.stage2_data.head(), npiv_headline.stage2_data.head())"
   ]
  },
  {
   "cell_type": "markdown",
   "metadata": {},
   "source": [
    "# 2. Now, instead of estimating quantiles in stage1, use the true quantiles"
   ]
  },
  {
   "cell_type": "markdown",
   "metadata": {},
   "source": [
    "## 2.a. define the true stage1 quantile-generating functions"
   ]
  },
  {
   "cell_type": "code",
   "execution_count": null,
   "metadata": {},
   "outputs": [],
   "source": [
    "# now, we can construct the dict models for passing into NonparametricIV\n",
    "# use the same quantiles as the model where we estimate stage1\n",
    "num_qtls = 10\n",
    "qtl_list = np.arange(0 , 1 , 1/num_qtls) + (1/num_qtls/2)\n",
    "print(qtl_list)\n",
    "true_stage1_models = {alpha : TrueQtlModel(alpha) for alpha in qtl_list}"
   ]
  },
  {
   "cell_type": "markdown",
   "metadata": {},
   "source": [
    "## 2.b. define NPIV models, with various stage2 models/objectives"
   ]
  },
  {
   "cell_type": "code",
   "execution_count": null,
   "metadata": {},
   "outputs": [],
   "source": [
    "# linear model, upper-bound objective\n",
    "npiv_lin_upper = NonparametricIV(df=df_train,\n",
    "                                 exog_x_cols=ivsim.exog_x_cols, \n",
    "                                 instrument_cols = ['instrument'],\n",
    "                                 endog_x_col=ivsim.endog_x_col,\n",
    "                                 y_col=ivsim.y_col,\n",
    "                                 stage1_models=true_stage1_models,\n",
    "                                 id_col='id',\n",
    "                                 stage2_model_type='linear',\n",
    "                                 stage2_objective='upper')"
   ]
  },
  {
   "cell_type": "code",
   "execution_count": null,
   "metadata": {},
   "outputs": [],
   "source": [
    "# linear model, true objective\n",
    "npiv_lin_true = NonparametricIV(df=df_train,\n",
    "                                 exog_x_cols=ivsim.exog_x_cols, \n",
    "                                 instrument_cols = ['instrument'],\n",
    "                                 endog_x_col=ivsim.endog_x_col,\n",
    "                                 y_col=ivsim.y_col,\n",
    "                                 stage1_models=true_stage1_models,\n",
    "                                 id_col='id',\n",
    "                                 stage2_model_type='linear',\n",
    "                                 stage2_objective='true')"
   ]
  },
  {
   "cell_type": "code",
   "execution_count": null,
   "metadata": {},
   "outputs": [],
   "source": [
    "# LGB model, upper-bound objective\n",
    "npiv_lgb_upper = NonparametricIV(df=df_train,\n",
    "                                 exog_x_cols=ivsim.exog_x_cols, \n",
    "                                 instrument_cols = ['instrument'],\n",
    "                                 endog_x_col=ivsim.endog_x_col,\n",
    "                                 y_col=ivsim.y_col,\n",
    "                                 stage1_models=true_stage1_models,\n",
    "                                 id_col='id',\n",
    "                                 stage2_model_type='lgb',\n",
    "                                 stage2_objective='upper')"
   ]
  },
  {
   "cell_type": "code",
   "execution_count": null,
   "metadata": {},
   "outputs": [],
   "source": [
    "# LGB model, true objective\n",
    "npiv_lgb_true = NonparametricIV(df=df_train,\n",
    "                                 exog_x_cols=ivsim.exog_x_cols, \n",
    "                                 instrument_cols = ['instrument'],\n",
    "                                 endog_x_col=ivsim.endog_x_col,\n",
    "                                 y_col=ivsim.y_col,\n",
    "                                 stage1_models=true_stage1_models,\n",
    "                                 id_col='id',\n",
    "                                 stage2_model_type='lgb',\n",
    "                                 stage2_objective='true')"
   ]
  },
  {
   "cell_type": "markdown",
   "metadata": {},
   "source": [
    "## 2.c. estimate stage2 for these models, using the true stage1 quantile functions"
   ]
  },
  {
   "cell_type": "markdown",
   "metadata": {},
   "source": [
    "### 2.c.I.  Linear Regression, upper bound objective\n",
    "- estimated coefficients are far from truth\n",
    "- this is like the second stage of 2sls, except intead of using the conditional mean of `log_price`, we use a bunch of conditional quantiles\n",
    "- this amounts to noising up the mean of `log_price`\n",
    "- which is errors-in-variables, so clearly inconsistent\n",
    "- e.g. coefficient on log_price is -4, but the estiamte is close to 0"
   ]
  },
  {
   "cell_type": "code",
   "execution_count": null,
   "metadata": {},
   "outputs": [],
   "source": [
    "%%time\n",
    "npiv_lin_upper.train_stage2(force=True)\n",
    "model = npiv_lin_upper.stage2_model\n",
    "coef_df = pd.DataFrame({'estimated coefficients':model.coef_}, index=model.feature_name()).sort_index()\n",
    "display(coef_df)"
   ]
  },
  {
   "cell_type": "markdown",
   "metadata": {},
   "source": [
    "### 2.c.II. Linear Regression, true objective\n",
    "- estimate marginal effects are close to truth\n",
    "- compare this to 1.c. above, it appears that having true quantiles significantly improves performance"
   ]
  },
  {
   "cell_type": "code",
   "execution_count": null,
   "metadata": {},
   "outputs": [],
   "source": [
    "%%time\n",
    "npiv_lin_true.train_stage2(force=True)\n",
    "model = npiv_lin_true.stage2_model\n",
    "coef_df = pd.DataFrame({'estimated coefficients':model.coef_}, index=model.feature_name()).sort_index()\n",
    "display(coef_df)"
   ]
  },
  {
   "cell_type": "markdown",
   "metadata": {},
   "source": [
    "### 2.c.III. LGB, upper bound objective\n",
    "- estimated marginal effects don't appear to approach true ones\n",
    "- given the errors-in-variables issue discussed for the linear upper bound objective above, this is unsurprising"
   ]
  },
  {
   "cell_type": "code",
   "execution_count": null,
   "metadata": {},
   "outputs": [],
   "source": [
    "%%time\n",
    "npiv_lgb_upper.train_stage2(force=True)\n",
    "model = npiv_lgb_upper.stage2_model"
   ]
  },
  {
   "cell_type": "code",
   "execution_count": null,
   "metadata": {},
   "outputs": [],
   "source": [
    "%%time\n",
    "# print some marginal effects implied by the model\n",
    "marginal_fx = model.marginal_effect_plots(df_test, plot=False)\n",
    "display(marginal_fx.groupby('feature name').describe().drop(('marginal effect', 'count'), axis=1))\n",
    "# and plot how the distribution of these marginal effects evolve as we train more iterations\n",
    "plot_performance_and_implied_margin_effects_vs_iteration(model, df_test, metric_name='l2', num_grid_pts=50)"
   ]
  },
  {
   "cell_type": "markdown",
   "metadata": {},
   "source": [
    "### 2.c.IV. LGB, true objective\n",
    "- appears to work\n",
    "- but still shrunk a bit towards 0 relative to the truth, or the linear true objective\n",
    "- as we train many trees, implied marginal effects begin to be clustered around the truth\n",
    "- comparing with 1.c. above where we used estimated quantiles, it appears that having exactly correct quantiles improves performance\n",
    "- comparing with 2.c.II above where we imposed the correct linear parametric form in the second stage, it appears that not using this information causes some bias"
   ]
  },
  {
   "cell_type": "code",
   "execution_count": null,
   "metadata": {},
   "outputs": [],
   "source": [
    "%%time\n",
    "npiv_lgb_true.train_stage2(force=True)\n",
    "model = npiv_lgb_true.stage2_model"
   ]
  },
  {
   "cell_type": "code",
   "execution_count": null,
   "metadata": {},
   "outputs": [],
   "source": [
    "%%time\n",
    "# print some marginal effects implied by the model\n",
    "marginal_fx = model.marginal_effect_plots(df_test, plot=False)\n",
    "display(marginal_fx.groupby('feature name').describe().drop(('marginal effect', 'count'), axis=1))\n",
    "# and plot how the distribution of these marginal effects evolve as we train more iterations\n",
    "plot_performance_and_implied_margin_effects_vs_iteration(model, df_test, metric_name='grouped sse', num_grid_pts=50)"
   ]
  },
  {
   "cell_type": "markdown",
   "metadata": {},
   "source": [
    "## 2.d. impact of regularization in stage2 models\n",
    "- we'll take the same setting as 2.c.IV, but up the regularization in the stage2 training\n",
    "- putting in some heavy regularization causes the estimated models to become much more biased vs now having this regularization\n",
    "    - e.g. log_price coef gets to -1.8 and then kind of stays there, as opposed to looking as if its trending towards -4 in 2.c.IV\n",
    "- however, the hold-out performance is actually *improved* vs having this parameter set to 0\n",
    "    - it's 1.824+06 here, vs 1.828e+06 in 2.c.IV\n",
    "- thus, it seems like model selection based on validation performance may lead to bias in estimated parameters "
   ]
  },
  {
   "cell_type": "code",
   "execution_count": null,
   "metadata": {},
   "outputs": [],
   "source": [
    "# take the params from above and up a reglarization parameter: \n",
    "stage2_params_with_more_regularization = npiv_lgb_true.stage2_params.copy()\n",
    "stage2_params_with_more_regularization['min_gain_to_split'] = 1000\n",
    "stage2_params_with_more_regularization"
   ]
  },
  {
   "cell_type": "code",
   "execution_count": null,
   "metadata": {},
   "outputs": [],
   "source": [
    "# now initialize with these stage2 params, stil using the true quantiles in stage1\n",
    "npiv_lgb_true_reg = NonparametricIV(df=df_train,\n",
    "                                 exog_x_cols=ivsim.exog_x_cols, \n",
    "                                 instrument_cols = ['instrument'],\n",
    "                                 endog_x_col=ivsim.endog_x_col,\n",
    "                                 y_col=ivsim.y_col,\n",
    "                                 stage1_models=true_stage1_models,\n",
    "                                 id_col='id',\n",
    "                                 stage2_model_type='lgb',\n",
    "                                 stage2_objective='true',\n",
    "                                 stage2_params=stage2_params_with_more_regularization)"
   ]
  },
  {
   "cell_type": "code",
   "execution_count": null,
   "metadata": {},
   "outputs": [],
   "source": [
    "%%time\n",
    "npiv_lgb_true_reg.train_stage2()\n",
    "model = npiv_lgb_true_reg.stage2_model"
   ]
  },
  {
   "cell_type": "code",
   "execution_count": null,
   "metadata": {},
   "outputs": [],
   "source": [
    "%%time\n",
    "# print some marginal effects implied by the model\n",
    "marginal_fx = model.marginal_effect_plots(df_test, plot=False)\n",
    "display(marginal_fx.groupby('feature name').describe().drop(('marginal effect', 'count'), axis=1))\n",
    "# and plot how the distribution of these marginal effects evolve as we train more iterations\n",
    "plot_performance_and_implied_margin_effects_vs_iteration(model, df_test, metric_name='grouped sse', num_grid_pts=50)"
   ]
  },
  {
   "cell_type": "code",
   "execution_count": null,
   "metadata": {},
   "outputs": [],
   "source": [
    "# note that the stage2 data used for 2.c.iv and here are the same,\n",
    "# so that validation set performance\n",
    "pd.testing.assert_frame_equal(npiv_lgb_true.stage2_data, npiv_lgb_true_reg.stage2_data)"
   ]
  },
  {
   "cell_type": "markdown",
   "metadata": {},
   "source": [
    "## 2.e. impact of quantile noise on stage2 models\n",
    "- add a little bit of noise to the true stage1 quantiles (sdev=.1)\n",
    "- performance degrades somewhat relative no noise in stage1 in 2.c.IV\n",
    "- performance degrades dramatically if you add even more noise (sdev=1)"
   ]
  },
  {
   "cell_type": "code",
   "execution_count": null,
   "metadata": {},
   "outputs": [],
   "source": [
    "class TrueQtlModelWithNoise(TrueQtlModel):\n",
    "    \"\"\"\n",
    "    class for producing noised-up versions of true quantile models\n",
    "    \"\"\"\n",
    "    def __init__(self, sigma:float, *args, **kwargs):\n",
    "        \"\"\"\n",
    "        Params:\n",
    "            sigma: sdev of the gaussian noise to add to true quantiles\n",
    "        \"\"\"\n",
    "        self.sigma = sigma\n",
    "        super().__init__(*args, **kwargs)\n",
    "    def predict(self, df:pd.DataFrame):\n",
    "        log_price_qtl = super().predict(df)\n",
    "        log_price_qtl_plus_noise = log_price_qtl + np.random.normal(scale=self.sigma, size=len(log_price_qtl))\n",
    "        return log_price_qtl_plus_noise\n",
    "\n",
    "# do a quick test to make sure that this works\n",
    "tmp_true_model = TrueQtlModel(alpha=.5)\n",
    "tmp_noisy_model =  TrueQtlModelWithNoise(sigma=1, alpha=.5)\n",
    "tmp_comp_df = pd.DataFrame({\n",
    "    'true': tmp_true_model.predict(df_test),\n",
    "    'noisy': tmp_noisy_model.predict(df_test),\n",
    "})\n",
    "# variance of noisy is approx 1 more that of true, as expected\n",
    "display(tmp_comp_df.head())\n",
    "display(tmp_comp_df.describe())"
   ]
  },
  {
   "cell_type": "code",
   "execution_count": null,
   "metadata": {},
   "outputs": [],
   "source": [
    "# quick function for testing the impact of noisy stage1 model on stage2 estimates\n",
    "def test_noise_stage1(sigma):\n",
    "    # construct some noised-up quantile stage1 modes, as above\n",
    "    # use the same quantiles as everything else above\n",
    "    num_qtls = 10\n",
    "    qtl_list = np.arange(0 , 1 , 1/num_qtls) + (1/num_qtls/2)\n",
    "    print(qtl_list)\n",
    "    noisy_stage1_models = {alpha : TrueQtlModelWithNoise(sigma=sigma,alpha=alpha) for alpha in qtl_list}\n",
    "\n",
    "    # ok, now initialize a model with these noised up stage1 models\n",
    "    # everything is the same  as npiv_lgb_true, above, except stgae1 is now noisy\n",
    "    npiv_lgb_true_stage1noisy = NonparametricIV(df=df_train,\n",
    "                                                 exog_x_cols=ivsim.exog_x_cols, \n",
    "                                                 instrument_cols = ['instrument'],\n",
    "                                                 endog_x_col=ivsim.endog_x_col,\n",
    "                                                 y_col=ivsim.y_col,\n",
    "                                                 stage1_models=noisy_stage1_models,\n",
    "                                                 id_col='id',\n",
    "                                                 stage2_model_type='lgb',\n",
    "                                                 stage2_objective='true')\n",
    "    npiv_lgb_true_stage1noisy.train_stage2(force=True)\n",
    "    model = npiv_lgb_true_stage1noisy.stage2_model\n",
    "    # print some marginal effects implied by the model\n",
    "    marginal_fx = model.marginal_effect_plots(df_test, plot=False)\n",
    "    display(marginal_fx.groupby('feature name').describe().drop(('marginal effect', 'count'), axis=1))\n",
    "    # and plot how the distribution of these marginal effects evolve as we train more iterations\n",
    "    plot_performance_and_implied_margin_effects_vs_iteration(model, df_test, metric_name='grouped sse', num_grid_pts=50)\n",
    "    return npiv_lgb_true_stage1noisy"
   ]
  },
  {
   "cell_type": "code",
   "execution_count": null,
   "metadata": {},
   "outputs": [],
   "source": [
    "%%time\n",
    "# 2.e.I. try a little noise\n",
    "npiv_lgb_true_stage1noisy_alittle = test_noise_stage1(.1)"
   ]
  },
  {
   "cell_type": "code",
   "execution_count": null,
   "metadata": {},
   "outputs": [],
   "source": [
    "%%time\n",
    "# 2.e.II. try a lot of noise\n",
    "npiv_lgb_true_stage1noisy_alot = test_noise_stage1(1)"
   ]
  },
  {
   "cell_type": "markdown",
   "metadata": {},
   "source": [
    "## 2.f. comparing true and predicted quantiles in more depth on an item level\n",
    "- predicted quantiles are naturally not as centered \n",
    "- but overall look quite close to true ones"
   ]
  },
  {
   "cell_type": "code",
   "execution_count": null,
   "metadata": {},
   "outputs": [],
   "source": [
    "# check that the dataframes we'll be combinine areidentical except for the log_price column\n",
    "#  which is generated either via the trained quantile models or the true ones\n",
    "pd.testing.assert_frame_equal(npiv_headline.stage2_data.drop('log_price',axis=1),\n",
    "                             npiv_lgb_true.stage2_data.drop('log_price',axis=1))"
   ]
  },
  {
   "cell_type": "code",
   "execution_count": null,
   "metadata": {},
   "outputs": [],
   "source": [
    "# now combine them and rename the log_price columns\n",
    "df_qtl_real_pred = npiv_lgb_true.stage2_data.rename(columns={'log_price':'log_price_true'}).copy()\n",
    "df_qtl_real_pred['log_price_pred'] = npiv_headline.stage2_data['log_price']\n",
    "display(df_qtl_real_pred.head())\n",
    "# compute mean and sd for each id (i.e. across all quantiles)\n",
    "id_summary_df = df_qtl_real_pred.groupby('id')[['log_price_true', 'log_price_pred']].agg(['mean', 'std'])\n",
    "display(id_summary_df.head())"
   ]
  },
  {
   "cell_type": "code",
   "execution_count": null,
   "metadata": {},
   "outputs": [],
   "source": [
    "# plot true vs predicted means\n",
    "id_summary_df.plot(('log_price_true', 'mean'), ('log_price_pred', 'mean'), kind='scatter', grid=True, alpha=.2)\n",
    "# and quantiles\n",
    "id_summary_df.plot(('log_price_true', 'std'), ('log_price_pred', 'std'), kind='scatter', grid=True, alpha=.2)"
   ]
  },
  {
   "cell_type": "code",
   "execution_count": null,
   "metadata": {},
   "outputs": [],
   "source": [
    "# averaged over all IDs, means and varainces of the of the log prices\n",
    "#  looked quite similar between the real and predicted quantiles\n",
    "# though for the std, the true quantiles exhibit zero variation in the std,\n",
    "#  whereas the predicted ones appear to be much more variable across observations\n",
    "display(id_summary_df.describe())"
   ]
  },
  {
   "cell_type": "code",
   "execution_count": null,
   "metadata": {},
   "outputs": [],
   "source": [
    "# slight negative correlation between std of predicted quantiles and mean of true quantiles\n",
    "corr = id_summary_df[[('log_price_true', 'mean'), ('log_price_pred', 'std')]].corr().iloc[0,1]\n",
    "id_summary_df.plot(('log_price_true', 'mean'), ('log_price_pred', 'std'), kind='scatter', grid=True, alpha=.2,\n",
    "                   title=\"correlation = {:.3f}\".format(corr))"
   ]
  },
  {
   "cell_type": "code",
   "execution_count": null,
   "metadata": {},
   "outputs": [],
   "source": []
  }
 ],
 "metadata": {
  "kernelspec": {
   "display_name": "Python 3",
   "language": "python",
   "name": "python3"
  },
  "language_info": {
   "codemirror_mode": {
    "name": "ipython",
    "version": 3
   },
   "file_extension": ".py",
   "mimetype": "text/x-python",
   "name": "python",
   "nbconvert_exporter": "python",
   "pygments_lexer": "ipython3",
   "version": "3.6.5"
  }
 },
 "nbformat": 4,
 "nbformat_minor": 2
}
