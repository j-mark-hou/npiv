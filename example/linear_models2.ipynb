{
 "cells": [
  {
   "cell_type": "code",
   "execution_count": 1,
   "metadata": {},
   "outputs": [],
   "source": [
    "%load_ext autoreload\n",
    "%autoreload 2\n",
    "%matplotlib inline\n",
    "\n",
    "import numpy as np\n",
    "import pandas as pd\n",
    "import lightgbm as lgb\n",
    "import matplotlib.pyplot as plt\n",
    "from sklearn.linear_model import LinearRegression\n",
    "from scipy.optimize import minimize\n",
    "\n",
    "from npiv import iv_simulator\n",
    "from npiv import custom_objectives"
   ]
  },
  {
   "cell_type": "code",
   "execution_count": null,
   "metadata": {},
   "outputs": [],
   "source": []
  },
  {
   "cell_type": "code",
   "execution_count": 2,
   "metadata": {},
   "outputs": [],
   "source": [
    "# 0. random data.  price is endogenous, instrument is this \n",
    "n = 100000 # number of observations\n",
    "d = 2 # dimensionality of the exogenous regressors in x\n",
    "    \n",
    "ivsim = iv_simulator.IVSimulator(num_exog_x_cols=d)\n",
    "df = ivsim.generate_data(num_obs=n)\n",
    "df['id'] = np.arange(n)"
   ]
  },
  {
   "cell_type": "code",
   "execution_count": 3,
   "metadata": {},
   "outputs": [
    {
     "name": "stdout",
     "output_type": "stream",
     "text": [
      "['x_0', 'x_1'] log_price instrument log_sales\n"
     ]
    },
    {
     "data": {
      "text/plain": [
       "x_0    0.707107\n",
       "x_1    0.707107\n",
       "dtype: float64"
      ]
     },
     "metadata": {},
     "output_type": "display_data"
    },
    {
     "data": {
      "text/plain": [
       "x_0          0.707107\n",
       "x_1          0.707107\n",
       "log_price   -4.000000\n",
       "dtype: float64"
      ]
     },
     "metadata": {},
     "output_type": "display_data"
    },
    {
     "data": {
      "text/html": [
       "<div>\n",
       "<style scoped>\n",
       "    .dataframe tbody tr th:only-of-type {\n",
       "        vertical-align: middle;\n",
       "    }\n",
       "\n",
       "    .dataframe tbody tr th {\n",
       "        vertical-align: top;\n",
       "    }\n",
       "\n",
       "    .dataframe thead th {\n",
       "        text-align: right;\n",
       "    }\n",
       "</style>\n",
       "<table border=\"1\" class=\"dataframe\">\n",
       "  <thead>\n",
       "    <tr style=\"text-align: right;\">\n",
       "      <th></th>\n",
       "      <th>x_0</th>\n",
       "      <th>x_1</th>\n",
       "      <th>unobserved_elast</th>\n",
       "      <th>unobserved_log_cost</th>\n",
       "      <th>unobserved_log_optimal_price</th>\n",
       "      <th>instrument</th>\n",
       "      <th>log_price</th>\n",
       "      <th>log_sales</th>\n",
       "      <th>id</th>\n",
       "    </tr>\n",
       "  </thead>\n",
       "  <tbody>\n",
       "    <tr>\n",
       "      <th>count</th>\n",
       "      <td>100000.000000</td>\n",
       "      <td>100000.000000</td>\n",
       "      <td>100000.000000</td>\n",
       "      <td>100000.000000</td>\n",
       "      <td>100000.000000</td>\n",
       "      <td>100000.000000</td>\n",
       "      <td>100000.000000</td>\n",
       "      <td>100000.000000</td>\n",
       "      <td>100000.000000</td>\n",
       "    </tr>\n",
       "    <tr>\n",
       "      <th>mean</th>\n",
       "      <td>-0.001323</td>\n",
       "      <td>-0.002421</td>\n",
       "      <td>-4.004591</td>\n",
       "      <td>-0.002648</td>\n",
       "      <td>0.406705</td>\n",
       "      <td>0.000064</td>\n",
       "      <td>0.406769</td>\n",
       "      <td>-1.211168</td>\n",
       "      <td>49999.500000</td>\n",
       "    </tr>\n",
       "    <tr>\n",
       "      <th>std</th>\n",
       "      <td>0.999793</td>\n",
       "      <td>1.001009</td>\n",
       "      <td>1.616034</td>\n",
       "      <td>0.998919</td>\n",
       "      <td>1.047431</td>\n",
       "      <td>0.057836</td>\n",
       "      <td>1.049555</td>\n",
       "      <td>3.569429</td>\n",
       "      <td>28867.657797</td>\n",
       "    </tr>\n",
       "    <tr>\n",
       "      <th>min</th>\n",
       "      <td>-4.093153</td>\n",
       "      <td>-4.399192</td>\n",
       "      <td>-6.799973</td>\n",
       "      <td>-4.277556</td>\n",
       "      <td>-3.989070</td>\n",
       "      <td>-0.099999</td>\n",
       "      <td>-4.049079</td>\n",
       "      <td>-23.336295</td>\n",
       "      <td>0.000000</td>\n",
       "    </tr>\n",
       "    <tr>\n",
       "      <th>25%</th>\n",
       "      <td>-0.676622</td>\n",
       "      <td>-0.677018</td>\n",
       "      <td>-5.402489</td>\n",
       "      <td>-0.678321</td>\n",
       "      <td>-0.302696</td>\n",
       "      <td>-0.050255</td>\n",
       "      <td>-0.304784</td>\n",
       "      <td>-3.081064</td>\n",
       "      <td>24999.750000</td>\n",
       "    </tr>\n",
       "    <tr>\n",
       "      <th>50%</th>\n",
       "      <td>-0.000108</td>\n",
       "      <td>-0.001623</td>\n",
       "      <td>-4.011444</td>\n",
       "      <td>-0.004192</td>\n",
       "      <td>0.396358</td>\n",
       "      <td>-0.000090</td>\n",
       "      <td>0.396826</td>\n",
       "      <td>-1.315862</td>\n",
       "      <td>49999.500000</td>\n",
       "    </tr>\n",
       "    <tr>\n",
       "      <th>75%</th>\n",
       "      <td>0.674169</td>\n",
       "      <td>0.674212</td>\n",
       "      <td>-2.601434</td>\n",
       "      <td>0.676775</td>\n",
       "      <td>1.111094</td>\n",
       "      <td>0.050353</td>\n",
       "      <td>1.113218</td>\n",
       "      <td>0.636327</td>\n",
       "      <td>74999.250000</td>\n",
       "    </tr>\n",
       "    <tr>\n",
       "      <th>max</th>\n",
       "      <td>4.458872</td>\n",
       "      <td>4.173449</td>\n",
       "      <td>-1.200075</td>\n",
       "      <td>4.618235</td>\n",
       "      <td>5.364919</td>\n",
       "      <td>0.099998</td>\n",
       "      <td>5.379462</td>\n",
       "      <td>22.936517</td>\n",
       "      <td>99999.000000</td>\n",
       "    </tr>\n",
       "  </tbody>\n",
       "</table>\n",
       "</div>"
      ],
      "text/plain": [
       "                 x_0            x_1  unobserved_elast  unobserved_log_cost  \\\n",
       "count  100000.000000  100000.000000     100000.000000        100000.000000   \n",
       "mean       -0.001323      -0.002421         -4.004591            -0.002648   \n",
       "std         0.999793       1.001009          1.616034             0.998919   \n",
       "min        -4.093153      -4.399192         -6.799973            -4.277556   \n",
       "25%        -0.676622      -0.677018         -5.402489            -0.678321   \n",
       "50%        -0.000108      -0.001623         -4.011444            -0.004192   \n",
       "75%         0.674169       0.674212         -2.601434             0.676775   \n",
       "max         4.458872       4.173449         -1.200075             4.618235   \n",
       "\n",
       "       unobserved_log_optimal_price     instrument      log_price  \\\n",
       "count                 100000.000000  100000.000000  100000.000000   \n",
       "mean                       0.406705       0.000064       0.406769   \n",
       "std                        1.047431       0.057836       1.049555   \n",
       "min                       -3.989070      -0.099999      -4.049079   \n",
       "25%                       -0.302696      -0.050255      -0.304784   \n",
       "50%                        0.396358      -0.000090       0.396826   \n",
       "75%                        1.111094       0.050353       1.113218   \n",
       "max                        5.364919       0.099998       5.379462   \n",
       "\n",
       "           log_sales             id  \n",
       "count  100000.000000  100000.000000  \n",
       "mean       -1.211168   49999.500000  \n",
       "std         3.569429   28867.657797  \n",
       "min       -23.336295       0.000000  \n",
       "25%        -3.081064   24999.750000  \n",
       "50%        -1.315862   49999.500000  \n",
       "75%         0.636327   74999.250000  \n",
       "max        22.936517   99999.000000  "
      ]
     },
     "metadata": {},
     "output_type": "display_data"
    }
   ],
   "source": [
    "print(ivsim.exog_x_cols, ivsim.endog_x_col, ivsim.instrument_col, ivsim.y_col)\n",
    "display(ivsim.log_cost_coefs)\n",
    "display(ivsim.log_sales_coefs)\n",
    "display(df.describe())"
   ]
  },
  {
   "cell_type": "code",
   "execution_count": 4,
   "metadata": {},
   "outputs": [
    {
     "name": "stdout",
     "output_type": "stream",
     "text": [
      "[0.2, 0.5, 0.8, 0.9, 0.95, 0.99]\n"
     ]
    },
    {
     "data": {
      "text/plain": [
       "<matplotlib.legend.Legend at 0x7f6face3f630>"
      ]
     },
     "execution_count": 4,
     "metadata": {},
     "output_type": "execute_result"
    },
    {
     "data": {
      "image/png": "[encoded data removed]",
      "text/plain": [
       "<Figure size 432x144 with 1 Axes>"
      ]
     },
     "metadata": {},
     "output_type": "display_data"
    },
    {
     "data": {
      "image/png": "[encoded data removed]",
      "text/plain": [
       "<Figure size 432x144 with 1 Axes>"
      ]
     },
     "metadata": {},
     "output_type": "display_data"
    },
    {
     "data": {
      "image/png": "[encoded data removed]",
      "text/plain": [
       "<Figure size 432x144 with 1 Axes>"
      ]
     },
     "metadata": {},
     "output_type": "display_data"
    },
    {
     "data": {
      "image/png": "[encoded data removed]",
      "text/plain": [
       "<Figure size 432x144 with 1 Axes>"
      ]
     },
     "metadata": {},
     "output_type": "display_data"
    },
    {
     "data": {
      "image/png": "[encoded data removed]",
      "text/plain": [
       "<Figure size 432x144 with 1 Axes>"
      ]
     },
     "metadata": {},
     "output_type": "display_data"
    },
    {
     "data": {
      "image/png": "[encoded data removed]",
      "text/plain": [
       "<Figure size 432x288 with 1 Axes>"
      ]
     },
     "metadata": {},
     "output_type": "display_data"
    }
   ],
   "source": [
    "# 1. Look at this data\n",
    "df.hist('instrument', figsize=(6,2))\n",
    "df.hist('unobserved_elast', figsize=(6,2))\n",
    "df.hist('unobserved_log_optimal_price', figsize=(6,2))\n",
    "df.hist('log_price', figsize=(6,2))\n",
    "df.hist('log_sales', figsize=(6,2))\n",
    "quantiles = [.2, .5, .8, .9, .95, .99]\n",
    "print(quantiles)\n",
    "qtl_df = df.groupby(pd.qcut(df['instrument'], 10))['log_price'].quantile(list(reversed(quantiles)))\n",
    "qtl_df.unstack(level=1).plot(legend=True, title = \"quantiles of log price vs instrument\")\n",
    "plt.legend()"
   ]
  },
  {
   "cell_type": "code",
   "execution_count": 5,
   "metadata": {},
   "outputs": [
    {
     "data": {
      "text/html": [
       "<div>\n",
       "<style scoped>\n",
       "    .dataframe tbody tr th:only-of-type {\n",
       "        vertical-align: middle;\n",
       "    }\n",
       "\n",
       "    .dataframe tbody tr th {\n",
       "        vertical-align: top;\n",
       "    }\n",
       "\n",
       "    .dataframe thead th {\n",
       "        text-align: right;\n",
       "    }\n",
       "</style>\n",
       "<table border=\"1\" class=\"dataframe\">\n",
       "  <thead>\n",
       "    <tr style=\"text-align: right;\">\n",
       "      <th></th>\n",
       "      <th>naive_coefs</th>\n",
       "    </tr>\n",
       "  </thead>\n",
       "  <tbody>\n",
       "    <tr>\n",
       "      <th>x_0</th>\n",
       "      <td>-1.620738</td>\n",
       "    </tr>\n",
       "    <tr>\n",
       "      <th>x_1</th>\n",
       "      <td>-1.624398</td>\n",
       "    </tr>\n",
       "    <tr>\n",
       "      <th>log_price</th>\n",
       "      <td>-0.711594</td>\n",
       "    </tr>\n",
       "  </tbody>\n",
       "</table>\n",
       "</div>"
      ],
      "text/plain": [
       "           naive_coefs\n",
       "x_0          -1.620738\n",
       "x_1          -1.624398\n",
       "log_price    -0.711594"
      ]
     },
     "metadata": {},
     "output_type": "display_data"
    },
    {
     "name": "stdout",
     "output_type": "stream",
     "text": [
      "intercept -0.927791062515\n"
     ]
    }
   ],
   "source": [
    "# 2. do naive regression of y vs exogenous x + price\n",
    "tmp_xcols = ivsim.exog_x_cols+[ivsim.endog_x_col]\n",
    "lm = LinearRegression()\n",
    "lm.fit(df[tmp_xcols], df[ivsim.y_col])\n",
    "naive_coefs = pd.DataFrame.from_dict(dict(zip(tmp_xcols, lm.coef_)),orient='index', columns=[\"naive_coefs\"])\n",
    "display(naive_coefs)\n",
    "print('intercept', lm.intercept_)\n",
    "# coef on log price is much less negative than truth"
   ]
  },
  {
   "cell_type": "code",
   "execution_count": null,
   "metadata": {},
   "outputs": [],
   "source": []
  },
  {
   "cell_type": "code",
   "execution_count": 6,
   "metadata": {},
   "outputs": [
    {
     "data": {
      "text/html": [
       "<div>\n",
       "<style scoped>\n",
       "    .dataframe tbody tr th:only-of-type {\n",
       "        vertical-align: middle;\n",
       "    }\n",
       "\n",
       "    .dataframe tbody tr th {\n",
       "        vertical-align: top;\n",
       "    }\n",
       "\n",
       "    .dataframe thead th {\n",
       "        text-align: right;\n",
       "    }\n",
       "</style>\n",
       "<table border=\"1\" class=\"dataframe\">\n",
       "  <thead>\n",
       "    <tr style=\"text-align: right;\">\n",
       "      <th></th>\n",
       "      <th>naive_coefs</th>\n",
       "    </tr>\n",
       "  </thead>\n",
       "  <tbody>\n",
       "    <tr>\n",
       "      <th>x_0</th>\n",
       "      <td>-2.123544</td>\n",
       "    </tr>\n",
       "    <tr>\n",
       "      <th>x_1</th>\n",
       "      <td>-2.127468</td>\n",
       "    </tr>\n",
       "    <tr>\n",
       "      <th>instrument</th>\n",
       "      <td>-3.861599</td>\n",
       "    </tr>\n",
       "  </tbody>\n",
       "</table>\n",
       "</div>"
      ],
      "text/plain": [
       "            naive_coefs\n",
       "x_0           -2.123544\n",
       "x_1           -2.127468\n",
       "instrument    -3.861599"
      ]
     },
     "metadata": {},
     "output_type": "display_data"
    },
    {
     "name": "stdout",
     "output_type": "stream",
     "text": [
      "intercept: -1.21888356416\n"
     ]
    }
   ],
   "source": [
    "# 3. the reduced form.  just do a linear reg for now\n",
    "tmp_xcols = ivsim.exog_x_cols+[ivsim.instrument_col]\n",
    "stage1_model = LinearRegression()\n",
    "stage1_model.fit(df[tmp_xcols], df[ivsim.y_col])\n",
    "stage1_coefs = pd.DataFrame.from_dict(dict(zip(tmp_xcols, stage1_model.coef_)),orient='index', columns=[\"naive_coefs\"])\n",
    "display(stage1_coefs)\n",
    "print(\"intercept:\", stage1_model.intercept_)\n",
    "# here, the coef on the instrument is just the true coef.\n",
    "#  the impact of the price correlation with elasticity is captured purely as a bias term in the intercept"
   ]
  },
  {
   "cell_type": "code",
   "execution_count": 7,
   "metadata": {},
   "outputs": [
    {
     "name": "stdout",
     "output_type": "stream",
     "text": [
      "computing these conditional quantiles of log price: [ 0.025  0.075  0.125  0.175  0.225  0.275  0.325  0.375  0.425  0.475\n",
      "  0.525  0.575  0.625  0.675  0.725  0.775  0.825  0.875  0.925  0.975]\n",
      "these are the relevant columns: ['log_price_qtl_0.03', 'log_price_qtl_0.08', 'log_price_qtl_0.12', 'log_price_qtl_0.18', 'log_price_qtl_0.23', 'log_price_qtl_0.28', 'log_price_qtl_0.33', 'log_price_qtl_0.38', 'log_price_qtl_0.43', 'log_price_qtl_0.48', 'log_price_qtl_0.53', 'log_price_qtl_0.58', 'log_price_qtl_0.63', 'log_price_qtl_0.68', 'log_price_qtl_0.73', 'log_price_qtl_0.78', 'log_price_qtl_0.83', 'log_price_qtl_0.88', 'log_price_qtl_0.93', 'log_price_qtl_0.98']\n"
     ]
    }
   ],
   "source": [
    "# 4. now compute some quantiles\n",
    "log_price_qtl_cols = []\n",
    "interval = .05\n",
    "qtls = np.arange(0,1,interval) + interval/2\n",
    "print(\"computing these conditional quantiles of log price: {}\".format(qtls))\n",
    "for qtl in qtls:\n",
    "    qcol = 'log_price_qtl_{:.2f}'.format(qtl)\n",
    "    df[qcol] = ivsim.compute_log_price_quantile_given_cost_and_instrument(df['unobserved_log_cost'], df['instrument'], qtl)\n",
    "    log_price_qtl_cols.append(qcol)\n",
    "print(\"these are the relevant columns: {}\".format(log_price_qtl_cols))"
   ]
  },
  {
   "cell_type": "code",
   "execution_count": 8,
   "metadata": {},
   "outputs": [],
   "source": [
    "# 5. construct data for doing deepiv with these true quantiles\n",
    "#    this will involve just duplicating the data a bunch of times,\n",
    "#    each time for each quantile of log price\n",
    "dfs_to_concat = []\n",
    "for c in log_price_qtl_cols:\n",
    "    tmp_df = df[['id']+ivsim.exog_x_cols+[c]+[ivsim.y_col]].rename(columns={c:'log_price_synthetic'})\n",
    "    dfs_to_concat.append(tmp_df)\n",
    "df_synthetic = pd.concat(dfs_to_concat)"
   ]
  },
  {
   "cell_type": "code",
   "execution_count": 9,
   "metadata": {},
   "outputs": [
    {
     "name": "stdout",
     "output_type": "stream",
     "text": [
      "-1.16347945574 [-2.02845848 -2.03225368 -0.13627882]\n",
      "x_0          0.707107\n",
      "x_1          0.707107\n",
      "log_price   -4.000000\n",
      "dtype: float64\n"
     ]
    }
   ],
   "source": [
    "# 6. do deepiv with the upper bound loss with true quantiles\n",
    "lm = LinearRegression()\n",
    "tmp_x_cols = ivsim.exog_x_cols+['log_price_synthetic']\n",
    "lm.fit(df_synthetic[tmp_x_cols], df_synthetic[ivsim.y_col])\n",
    "print(lm.intercept_, lm.coef_)\n",
    "print(ivsim.log_sales_coefs)"
   ]
  },
  {
   "cell_type": "code",
   "execution_count": 10,
   "metadata": {},
   "outputs": [
    {
     "name": "stdout",
     "output_type": "stream",
     "text": [
      "-0.107970653221 [ 0.60701914  0.60309518 -3.86159937]\n",
      "x_0          0.707107\n",
      "x_1          0.707107\n",
      "log_price   -4.000000\n",
      "dtype: float64\n"
     ]
    }
   ],
   "source": [
    "# 7. that doesn't look so good.\n",
    "#  what if we just use a single quantile (the median) instead of many?\n",
    "lm = LinearRegression()\n",
    "tmp_df = df.copy()\n",
    "tmp_df['log_price_synthetic'] = ivsim.compute_log_price_quantile_given_cost_and_instrument(df['unobserved_log_cost'], \n",
    "                                                                                           df['instrument'], .5)\n",
    "tmp_x_cols = ivsim.exog_x_cols+['log_price_synthetic']\n",
    "lm.fit(tmp_df[tmp_x_cols], tmp_df[ivsim.y_col])\n",
    "print(lm.intercept_, lm.coef_)\n",
    "print(ivsim.log_sales_coefs)\n",
    "# coef on price is actually close to what we expect now (-4)\n",
    "# i think the issue with the above is EIV, since price "
   ]
  },
  {
   "cell_type": "code",
   "execution_count": null,
   "metadata": {},
   "outputs": [],
   "source": []
  },
  {
   "cell_type": "code",
   "execution_count": 15,
   "metadata": {},
   "outputs": [
    {
     "name": "stdout",
     "output_type": "stream",
     "text": [
      "568304939.542\n",
      "387241831.707\n",
      "312468964.656\n",
      "153439666.796\n",
      "146579079.482\n",
      "334931339.863\n",
      "367758969.772\n"
     ]
    }
   ],
   "source": [
    "# 8. ok, now let's try the real objective instead of this upper-bounded version\n",
    "#    in order to do so we need to compute a per-id loss function rather than \n",
    "#    entry-by-entry in this expanded dataframe.  basically, for each id, we want\n",
    "#    the mean of the coefs*features to be close to y\n",
    "#    such that the per-id sum of these (a*xhat+b) is close to y\n",
    "# def loss_func(coefs, dfhat, x_cols, y_col, grouping_col):\n",
    "#     intercept, actual_coefs = coefs[0], coefs[1:]\n",
    "#     tmp_df = dfhat[[y_col, grouping_col]].copy()\n",
    "#     tmp_df['yhat'] = intercept + (dfhat[x_cols].multiply(actual_coefs)).sum(axis=1)\n",
    "#     agg_df = tmp_df.groupby(grouping_col)[[y_col, 'yhat']].mean()\n",
    "#     loss = ((agg_df[y_col]-agg_df['yhat'])**2).sum()\n",
    "#     return loss\n",
    "loss_func = custom_objectives.grouped_sse_loss_linear\n",
    "# try out this loss for some random coefs.  loss should be decreasing as we appraoch truth\n",
    "tmp_xcols = ivsim.exog_x_cols+['log_price_synthetic']\n",
    "print(loss_func([0,0,0,0],    df_synthetic, x_cols=tmp_xcols, y_col=ivsim.y_col, grp_col='id'))\n",
    "print(loss_func([0,1,1,-2],   df_synthetic, x_cols=tmp_xcols, y_col=ivsim.y_col, grp_col='id'))\n",
    "print(loss_func([0,.7,.7,-2], df_synthetic, x_cols=tmp_xcols, y_col=ivsim.y_col, grp_col='id'))\n",
    "print(loss_func([0,.7,.7,-4], df_synthetic, x_cols=tmp_xcols, y_col=ivsim.y_col, grp_col='id'))\n",
    "print(loss_func([.4,.7,.7,-4], df_synthetic, x_cols=tmp_xcols, y_col=ivsim.y_col, grp_col='id'),\n",
    "        \"this should be the best\")\n",
    "print(loss_func([.4,.7,.7,-6], df_synthetic, x_cols=tmp_xcols, y_col=ivsim.y_col, grp_col='id'))\n",
    "print(loss_func([0  ,.7,.7,-6], df_synthetic, x_cols=tmp_xcols, y_col=ivsim.y_col, grp_col='id'))\n",
    "# ok, so the true parameters (.4, .7, .7, .-4) seem to do best out of the few i've tried, so is ok"
   ]
  },
  {
   "cell_type": "code",
   "execution_count": 16,
   "metadata": {},
   "outputs": [
    {
     "data": {
      "text/plain": [
       "      fun: 146567218.95271155\n",
       " hess_inv: array([[  9.68484173e-09,   5.62686442e-09,   1.10361001e-08,\n",
       "         -1.33765490e-08],\n",
       "       [  5.62686441e-09,   3.50936392e-08,   2.59749997e-08,\n",
       "         -3.41989369e-08],\n",
       "       [  1.10361001e-08,   2.59749997e-08,   4.53130905e-08,\n",
       "         -4.60332158e-08],\n",
       "       [ -1.33765490e-08,  -3.41989369e-08,  -4.60332158e-08,\n",
       "          5.66363015e-08]])\n",
       "      jac: array([ 4.,  2.,  4.,  4.])\n",
       "  message: 'Desired error not necessarily achieved due to precision loss.'\n",
       "     nfev: 456\n",
       "      nit: 10\n",
       "     njev: 74\n",
       "   status: 2\n",
       "  success: False\n",
       "        x: array([ 0.35788149,  0.60701875,  0.60309478, -3.8615988 ])"
      ]
     },
     "execution_count": 16,
     "metadata": {},
     "output_type": "execute_result"
    }
   ],
   "source": [
    "# now actually optimize it. takes maybe a minute to finish?\n",
    "min_output = minimize(fun = custom_objectives.grouped_sse_loss_linear, \n",
    "                      x0=np.zeros(shape=len(tmp_xcols)+1), \n",
    "                      args = (df_synthetic, tmp_xcols, ivsim.y_col, 'id'))\n",
    "min_output\n",
    "# appears to work pretty well, in that the true coefs are not that far off from what they should be."
   ]
  },
  {
   "cell_type": "code",
   "execution_count": 32,
   "metadata": {},
   "outputs": [
    {
     "data": {
      "text/plain": [
       "array([0, 1, 2, 9, 4])"
      ]
     },
     "execution_count": 32,
     "metadata": {},
     "output_type": "execute_result"
    }
   ],
   "source": [
    "a"
   ]
  },
  {
   "cell_type": "code",
   "execution_count": 36,
   "metadata": {},
   "outputs": [
    {
     "data": {
      "text/plain": [
       "array([ 0.,  0.,  0.,  0.,  0.,  0.,  0.,  0.,  0.,  0.])"
      ]
     },
     "execution_count": 36,
     "metadata": {},
     "output_type": "execute_result"
    }
   ],
   "source": [
    "np.arange()"
   ]
  },
  {
   "cell_type": "code",
   "execution_count": null,
   "metadata": {},
   "outputs": [],
   "source": []
  },
  {
   "cell_type": "code",
   "execution_count": 18,
   "metadata": {},
   "outputs": [
    {
     "name": "stdout",
     "output_type": "stream",
     "text": [
      "0.409355560914 [ 0.70809925  0.70831887  1.02794063]\n",
      "0.318916510702 [ 0.53652758  0.53342866 -3.75663658] these should resemble the truth\n"
     ]
    }
   ],
   "source": [
    "# 9. ok, this has all been assuming we know the quantiles.  let's try something \n",
    "#    simple wehre we actually estimate the first stage: 2sls\n",
    "# first stage\n",
    "lm_stage1 = LinearRegression()\n",
    "x_cols_stage1 = ivsim.exog_x_cols + [ivsim.instrument_col]\n",
    "y_col_stage1 = 'log_price'\n",
    "lm_stage1.fit(df[x_cols_stage1], df[y_col_stage1])\n",
    "print(lm_stage1.intercept_, lm_stage1.coef_)\n",
    "# now, second stage\n",
    "df['log_price_hat_2sls'] = lm_stage1.predict(df[x_cols_stage1])\n",
    "lm_stage2 = LinearRegression()\n",
    "x_cols_stage2 = ivsim.exog_x_cols + ['log_price_hat_2sls']\n",
    "y_col_stage2 = ivsim.y_col\n",
    "lm_stage2.fit(df[x_cols_stage2], df[y_col_stage2])\n",
    "print(lm_stage2.intercept_, lm_stage2.coef_, \"these should resemble the truth\")\n",
    "# looks good"
   ]
  },
  {
   "cell_type": "code",
   "execution_count": null,
   "metadata": {},
   "outputs": [],
   "source": []
  }
 ],
 "metadata": {
  "kernelspec": {
   "display_name": "Python 3",
   "language": "python",
   "name": "python3"
  },
  "language_info": {
   "codemirror_mode": {
    "name": "ipython",
    "version": 3
   },
   "file_extension": ".py",
   "mimetype": "text/x-python",
   "name": "python",
   "nbconvert_exporter": "python",
   "pygments_lexer": "ipython3",
   "version": "3.6.5"
  }
 },
 "nbformat": 4,
 "nbformat_minor": 2
}
