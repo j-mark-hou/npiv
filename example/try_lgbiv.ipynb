{
 "cells": [
  {
   "cell_type": "code",
   "execution_count": 1,
   "metadata": {},
   "outputs": [],
   "source": [
    "%load_ext autoreload\n",
    "%autoreload 2\n",
    "%matplotlib inline\n",
    "\n",
    "from collections import OrderedDict\n",
    "import numpy as np\n",
    "import pandas as pd\n",
    "import lightgbm as lgb\n",
    "import matplotlib.pyplot as plt\n",
    "from sklearn.linear_model import LinearRegression\n",
    "from scipy.optimize import minimize\n",
    "\n",
    "from npiv import iv_simulator, custom_objectives, model_wrapper, NonparametricIV"
   ]
  },
  {
   "cell_type": "code",
   "execution_count": 29,
   "metadata": {},
   "outputs": [],
   "source": [
    "# 0. random data.  price is endogenous, instrument is this \n",
    "n = 60000 # number of observations\n",
    "d = 2 # dimensionality of the exogenous regressors in x\n",
    "    \n",
    "ivsim = iv_simulator.IVSimulator(num_exog_x_cols=d, numpy_random_seed=0)\n",
    "df = ivsim.generate_data(num_obs=n)\n",
    "df['id'] = np.arange(n)\n",
    "\n",
    "test_cutoff = 50000\n",
    "df_train = df.iloc[:test_cutoff,:]\n",
    "df_test = df.iloc[test_cutoff:,:]"
   ]
  },
  {
   "cell_type": "code",
   "execution_count": null,
   "metadata": {},
   "outputs": [],
   "source": []
  },
  {
   "cell_type": "markdown",
   "metadata": {},
   "source": [
    "# Helper functions"
   ]
  },
  {
   "cell_type": "code",
   "execution_count": 38,
   "metadata": {},
   "outputs": [],
   "source": [
    "#  we'll be doing some experiments where we use the true quantiles to test\n",
    "#  just the second stage of the NonparmatricIV process, an in order to do that\n",
    "#  we'll need a class for producing true quantiles in this synthetic example\n",
    "class TrueQtlModel:\n",
    "    elast_max = ivsim.elast_max\n",
    "    elast_min = ivsim.elast_min\n",
    "    log_cost_coefs = ivsim.log_cost_coefs\n",
    "    exog_x_cols = ivsim.exog_x_cols\n",
    "    instrument_col = ivsim.instrument_col\n",
    "    def __init__(self, alpha):\n",
    "        self.alpha=alpha\n",
    "    def feature_name(self):\n",
    "        return self.exog_x_cols+[self.instrument_col]\n",
    "    def predict(self, df):\n",
    "        elast_qtl = self.alpha * (self.elast_max - self.elast_min) + self.elast_min \n",
    "        log_costs = iv_simulator.generate_log_costs(df[self.exog_x_cols], self.log_cost_coefs)\n",
    "        log_price_qtl = iv_simulator.generate_log_optimal_prices(log_costs, elast_qtl) + df[self.instrument_col]\n",
    "        return log_price_qtl"
   ]
  },
  {
   "cell_type": "code",
   "execution_count": 56,
   "metadata": {},
   "outputs": [],
   "source": [
    "\n",
    "def plot_performance_and_implied_margin_effects_vs_iteration(model, df_test, num_grid_pts=50):\n",
    "    '''\n",
    "    function to compute and plot the distribution of marginal effects of a model,\n",
    "        with respect to each of the model features, at the various points defined\n",
    "        by df_tests    \n",
    "    model should be some NonparametricIv.stage2_model when trained with 'lgb' option\n",
    "    df_test should be some hold-out data\n",
    "    '''\n",
    "    metric_name = 'grouped sse'\n",
    "    eval_results = model.eval_results['val'][metric_name]\n",
    "    num_iters = len(eval_results)\n",
    "    # generate time series of marginal effects\n",
    "    dfs_to_concat = []\n",
    "    for num_iteration in np.linspace(1,num_iters, num_grid_pts, dtype=int):\n",
    "        print(num_iteration, end=\" \")\n",
    "        mfx = model.marginal_effect_plots(df_test, plot=False, predict_kwargs={'num_iteration':num_iteration})\n",
    "        tmp_df = mfx.groupby('feature name').describe().transpose().reset_index(level=0,drop=True)\\\n",
    "                    .reset_index().rename(columns={'index':'stat'})\n",
    "        tmp_df.columns.name=None\n",
    "        tmp_df['num_iteration'] = num_iteration\n",
    "        tmp_df.set_index(['num_iteration', 'stat'], inplace=True)\n",
    "        dfs_to_concat.append(tmp_df)\n",
    "    desc_df = pd.concat(dfs_to_concat)\n",
    "    fig, axes = plt.subplots(nrows=desc_df.shape[1]+1, ncols=1, figsize=(10, (desc_df.shape[1]+1)*1.5), sharex=True)\n",
    "    # plot performance\n",
    "    ax = axes[0]\n",
    "    ax.grid()\n",
    "    best_num_trees = np.argmin(eval_results)\n",
    "    best_perf, final_perf = eval_results[best_num_trees], eval_results[-1]\n",
    "    ax.plot(eval_results)\n",
    "    ax.axvline(best_num_trees, color='blue', linewidth=1)\n",
    "    ax.set_yscale('log')\n",
    "    ax.set_title(\"validation set performance, blue=best={:.3E}, final={:.3E}\".format(best_perf, final_perf))\n",
    "\n",
    "    # plot marginal effects\n",
    "    for i,c in enumerate(desc_df.columns):\n",
    "        tmp_df = desc_df.loc[pd.IndexSlice[:, ['mean', 'min', 'max', '25%', '75%']],c].unstack()\n",
    "        ax = axes[i+1]\n",
    "        ax.grid()\n",
    "        # plot the true marginal effects\n",
    "        if c=='log_price_synthetic':\n",
    "            true_mfx = ivsim.log_sales_coefs.loc['log_price']\n",
    "        else:\n",
    "            true_mfx = ivsim.log_sales_coefs.loc[c]\n",
    "        ax.axhline(true_mfx, color='red', linewidth=1)\n",
    "        ax.axvline(best_num_trees, color='blue', linewidth=1)\n",
    "        # plot the model implied marignal effects\n",
    "        ax.plot(tmp_df['mean'], color='black', linestyle='-')\n",
    "        ax.plot(tmp_df['25%'], color='black', linestyle='-.')\n",
    "        ax.plot(tmp_df['75%'], color='black', linestyle='-.')\n",
    "        ax.set_title('mean and quartiles of marginal effects of `{}`, red = truth'.format(c))\n",
    "    plt.xlabel(\"number of trees trained\")\n",
    "    plt.tight_layout()"
   ]
  },
  {
   "cell_type": "markdown",
   "metadata": {},
   "source": [
    "# I. try stuff out with true quantiles"
   ]
  },
  {
   "cell_type": "code",
   "execution_count": 30,
   "metadata": {},
   "outputs": [
    {
     "name": "stdout",
     "output_type": "stream",
     "text": [
      "[0.050000000000000003, 0.15000000000000002, 0.25, 0.35000000000000003, 0.45000000000000001, 0.55000000000000004, 0.65000000000000013, 0.75000000000000011, 0.85000000000000009, 0.95000000000000007]\n"
     ]
    }
   ],
   "source": [
    "\n",
    "# now, we can construct the dict models for passing into NonparametricIV\n",
    "# use the same quantiles as the model where we estimate stage1\n",
    "qtl_list = list(npiv_estimate_stage1_linear_stage2.stage1_params.keys())\n",
    "print(qtl_list)\n",
    "stage1_models = {alpha : TrueQtlModel(alpha) for alpha in qtl_list}"
   ]
  },
  {
   "cell_type": "code",
   "execution_count": 31,
   "metadata": {},
   "outputs": [],
   "source": [
    "# ok, init some NPIV models to test stage2\n",
    "npiv_true_stage1_linear_stage2 = NonparametricIV(df=df_train,\n",
    "                                                 exog_x_cols=ivsim.exog_x_cols, \n",
    "                                                 instrument_cols = ['instrument'],\n",
    "                                                 endog_x_col=ivsim.endog_x_col,\n",
    "                                                 y_col=ivsim.y_col,\n",
    "                                                 stage1_models=stage1_models,\n",
    "                                                 id_col='id')"
   ]
  },
  {
   "cell_type": "code",
   "execution_count": 36,
   "metadata": {},
   "outputs": [
    {
     "name": "stdout",
     "output_type": "stream",
     "text": [
      "(20000, 7)\n",
      "[ 0.70598194  0.70660759  1.0313948 ]\n"
     ]
    },
    {
     "data": {
      "text/html": [
       "<div>\n",
       "<style scoped>\n",
       "    .dataframe tbody tr th:only-of-type {\n",
       "        vertical-align: middle;\n",
       "    }\n",
       "\n",
       "    .dataframe tbody tr th {\n",
       "        vertical-align: top;\n",
       "    }\n",
       "\n",
       "    .dataframe thead th {\n",
       "        text-align: right;\n",
       "    }\n",
       "</style>\n",
       "<table border=\"1\" class=\"dataframe\">\n",
       "  <thead>\n",
       "    <tr style=\"text-align: right;\">\n",
       "      <th></th>\n",
       "      <th>true</th>\n",
       "      <th>2sls</th>\n",
       "    </tr>\n",
       "  </thead>\n",
       "  <tbody>\n",
       "    <tr>\n",
       "      <th>x_0</th>\n",
       "      <td>0.707107</td>\n",
       "      <td>0.698864</td>\n",
       "    </tr>\n",
       "    <tr>\n",
       "      <th>x_1</th>\n",
       "      <td>0.707107</td>\n",
       "      <td>0.658847</td>\n",
       "    </tr>\n",
       "    <tr>\n",
       "      <th>log_price</th>\n",
       "      <td>-4.000000</td>\n",
       "      <td>-3.971273</td>\n",
       "    </tr>\n",
       "  </tbody>\n",
       "</table>\n",
       "</div>"
      ],
      "text/plain": [
       "               true      2sls\n",
       "x_0        0.707107  0.698864\n",
       "x_1        0.707107  0.658847\n",
       "log_price -4.000000 -3.971273"
      ]
     },
     "metadata": {},
     "output_type": "display_data"
    }
   ],
   "source": [
    "# 1. just do 2sls on the same data that will be used to train the 2nd stage of the NonparametricIV\n",
    "#    our setup is totally linear in both stage1 and stage2, so 2sls should be consistent\n",
    "df = npiv_true_stage1_linear_stage2.data\n",
    "df = df.loc[df['_purpose_']=='train2'].copy()\n",
    "print(df.shape)\n",
    "# stage1\n",
    "from sklearn.linear_model import LinearRegression\n",
    "model1 = LinearRegression()\n",
    "xcols1, ycol1 = ['x_0', 'x_1', 'instrument'], 'log_price'\n",
    "model1.fit(df[xcols1], df[ycol1])\n",
    "print(model1.coef_)\n",
    "# stage2\n",
    "df['pred_log_price'] = model1.predict(df[xcols1])\n",
    "model2 = LinearRegression()\n",
    "xcols2, ycol2 = ['x_0', 'x_1', 'pred_log_price'], 'log_sales'\n",
    "model2.fit(df[xcols2], df[ycol2])\n",
    "# print coefs of stage2 vs the truth\n",
    "stage2_coef_vs_true = pd.DataFrame({'true':ivsim.log_sales_coefs, '2sls':model2.coef_})\n",
    "display(stage2_coef_vs_true)"
   ]
  },
  {
   "cell_type": "code",
   "execution_count": null,
   "metadata": {},
   "outputs": [],
   "source": []
  },
  {
   "cell_type": "code",
   "execution_count": 37,
   "metadata": {},
   "outputs": [
    {
     "name": "stderr",
     "output_type": "stream",
     "text": [
      "/opt/conda/lib/python3.6/site-packages/lightgbm/engine.py:107: UserWarning: Found `num_iterations` in params. Will use it instead of argument\n",
      "  warnings.warn(\"Found `{}` in params. Will use it instead of argument\".format(alias))\n"
     ]
    },
    {
     "name": "stdout",
     "output_type": "stream",
     "text": [
      "[1000]\ttrain's grouped sse: 7.14513e+06\tval's grouped sse: 1.83787e+06\n",
      "[2000]\ttrain's grouped sse: 7.0965e+06\tval's grouped sse: 1.84658e+06\n",
      "[3000]\ttrain's grouped sse: 7.08262e+06\tval's grouped sse: 1.84566e+06\n",
      "[4000]\ttrain's grouped sse: 7.07403e+06\tval's grouped sse: 1.84822e+06\n",
      "[5000]\ttrain's grouped sse: 7.06944e+06\tval's grouped sse: 1.84854e+06\n",
      "[6000]\ttrain's grouped sse: 7.06682e+06\tval's grouped sse: 1.84717e+06\n",
      "[7000]\ttrain's grouped sse: 7.06399e+06\tval's grouped sse: 1.8514e+06\n",
      "[8000]\ttrain's grouped sse: 7.06263e+06\tval's grouped sse: 1.8482e+06\n",
      "[9000]\ttrain's grouped sse: 7.06159e+06\tval's grouped sse: 1.85043e+06\n",
      "[10000]\ttrain's grouped sse: 7.06075e+06\tval's grouped sse: 1.85201e+06\n"
     ]
    },
    {
     "data": {
      "text/html": [
       "<div>\n",
       "<style scoped>\n",
       "    .dataframe tbody tr th:only-of-type {\n",
       "        vertical-align: middle;\n",
       "    }\n",
       "\n",
       "    .dataframe tbody tr th {\n",
       "        vertical-align: top;\n",
       "    }\n",
       "\n",
       "    .dataframe thead th {\n",
       "        text-align: right;\n",
       "    }\n",
       "</style>\n",
       "<table border=\"1\" class=\"dataframe\">\n",
       "  <thead>\n",
       "    <tr style=\"text-align: right;\">\n",
       "      <th></th>\n",
       "      <th>feature name</th>\n",
       "      <th>log_price</th>\n",
       "      <th>x_0</th>\n",
       "      <th>x_1</th>\n",
       "    </tr>\n",
       "  </thead>\n",
       "  <tbody>\n",
       "    <tr>\n",
       "      <th rowspan=\"8\" valign=\"top\">marginal effect</th>\n",
       "      <th>count</th>\n",
       "      <td>10000.000000</td>\n",
       "      <td>10000.000000</td>\n",
       "      <td>10000.000000</td>\n",
       "    </tr>\n",
       "    <tr>\n",
       "      <th>mean</th>\n",
       "      <td>-3.542143</td>\n",
       "      <td>0.391592</td>\n",
       "      <td>0.360903</td>\n",
       "    </tr>\n",
       "    <tr>\n",
       "      <th>std</th>\n",
       "      <td>5.174993</td>\n",
       "      <td>1.595441</td>\n",
       "      <td>1.633423</td>\n",
       "    </tr>\n",
       "    <tr>\n",
       "      <th>min</th>\n",
       "      <td>-32.956921</td>\n",
       "      <td>-4.451886</td>\n",
       "      <td>-7.120803</td>\n",
       "    </tr>\n",
       "    <tr>\n",
       "      <th>25%</th>\n",
       "      <td>-6.709508</td>\n",
       "      <td>-0.603365</td>\n",
       "      <td>-0.490230</td>\n",
       "    </tr>\n",
       "    <tr>\n",
       "      <th>50%</th>\n",
       "      <td>-3.584337</td>\n",
       "      <td>0.328535</td>\n",
       "      <td>0.370895</td>\n",
       "    </tr>\n",
       "    <tr>\n",
       "      <th>75%</th>\n",
       "      <td>-0.339066</td>\n",
       "      <td>1.416109</td>\n",
       "      <td>1.377559</td>\n",
       "    </tr>\n",
       "    <tr>\n",
       "      <th>max</th>\n",
       "      <td>21.781870</td>\n",
       "      <td>6.540493</td>\n",
       "      <td>7.037856</td>\n",
       "    </tr>\n",
       "  </tbody>\n",
       "</table>\n",
       "</div>"
      ],
      "text/plain": [
       "feature name              log_price           x_0           x_1\n",
       "marginal effect count  10000.000000  10000.000000  10000.000000\n",
       "                mean      -3.542143      0.391592      0.360903\n",
       "                std        5.174993      1.595441      1.633423\n",
       "                min      -32.956921     -4.451886     -7.120803\n",
       "                25%       -6.709508     -0.603365     -0.490230\n",
       "                50%       -3.584337      0.328535      0.370895\n",
       "                75%       -0.339066      1.416109      1.377559\n",
       "                max       21.781870      6.540493      7.037856"
      ]
     },
     "metadata": {},
     "output_type": "display_data"
    }
   ],
   "source": [
    "# takes a few minutes\n",
    "npiv_true_stage1_linear_stage2.train_stage2()\n",
    "\n",
    "# print some marginal effects\n",
    "wrapped_gbm2 = model_wrapper.ModelWrapper(npiv_true_stage1_linear_stage2.stage2_model)\n",
    "marginal_fx = wrapped_gbm2.marginal_effect_plots(df_test, plot=False)\n",
    "display(marginal_fx.groupby('feature name').describe().transpose())"
   ]
  },
  {
   "cell_type": "code",
   "execution_count": 57,
   "metadata": {},
   "outputs": [
    {
     "name": "stdout",
     "output_type": "stream",
     "text": [
      "1 205 409 613 817 1021 1225 1429 1633 1837 2041 2245 2449 2653 2857 3061 3265 3470 3674 3878 4082 4286 4490 4694 4898 5102 5306 5510 5714 5918 6122 6326 6530 6735 6939 7143 7347 7551 7755 7959 8163 8367 8571 8775 8979 9183 9387 9591 9795 10000 "
     ]
    },
    {
     "data": {
      "image/png": "[encoded data removed]",
      "text/plain": [
       "<Figure size 720x432 with 4 Axes>"
      ]
     },
     "metadata": {},
     "output_type": "display_data"
    }
   ],
   "source": [
    "wrapped_gbm2 = model_wrapper.ModelWrapper(npiv_true_stage1_linear_stage2.stage2_model)\n",
    "plot_performance_and_implied_margin_effects_vs_iteration(wrapped_gbm2, df_test, num_grid_pts=50)"
   ]
  },
  {
   "cell_type": "code",
   "execution_count": null,
   "metadata": {},
   "outputs": [],
   "source": []
  },
  {
   "cell_type": "code",
   "execution_count": null,
   "metadata": {},
   "outputs": [],
   "source": [
    "assert False"
   ]
  },
  {
   "cell_type": "markdown",
   "metadata": {},
   "source": [
    "# II. try quantiles"
   ]
  },
  {
   "cell_type": "code",
   "execution_count": 4,
   "metadata": {},
   "outputs": [],
   "source": [
    "# initialize a nonparametric IV model that estimates quantiles in the first stage and uses a linear\n",
    "#  specification in the second stage\n",
    "npiv_estimate_stage1_linear_stage2 = NonparametricIV(df=df_train,\n",
    "                                                     exog_x_cols=ivsim.exog_x_cols, \n",
    "                                                     instrument_cols = ['instrument'],\n",
    "                                                     endog_x_col=ivsim.endog_x_col,\n",
    "                                                     y_col=ivsim.y_col,\n",
    "                                                     id_col='id')"
   ]
  },
  {
   "cell_type": "code",
   "execution_count": 6,
   "metadata": {},
   "outputs": [
    {
     "name": "stdout",
     "output_type": "stream",
     "text": [
      "alpha=0.05\n",
      "Training until validation scores don't improve for 100 rounds.\n",
      "[100]\ttrain's quantile: 0.0240815\tval's quantile: 0.0272374\n",
      "[200]\ttrain's quantile: 0.0161708\tval's quantile: 0.0185011\n",
      "[300]\ttrain's quantile: 0.0141699\tval's quantile: 0.0164361\n",
      "[400]\ttrain's quantile: 0.0134475\tval's quantile: 0.0157579\n",
      "[500]\ttrain's quantile: 0.0131027\tval's quantile: 0.0154873"
     ]
    },
    {
     "name": "stderr",
     "output_type": "stream",
     "text": [
      "/opt/conda/lib/python3.6/site-packages/lightgbm/engine.py:107: UserWarning: Found `num_iterations` in params. Will use it instead of argument\n",
      "  warnings.warn(\"Found `{}` in params. Will use it instead of argument\".format(alias))\n",
      "/opt/conda/lib/python3.6/site-packages/lightgbm/engine.py:112: UserWarning: Found `early_stopping_round` in params. Will use it instead of argument\n",
      "  warnings.warn(\"Found `{}` in params. Will use it instead of argument\".format(alias))\n"
     ]
    },
    {
     "name": "stdout",
     "output_type": "stream",
     "text": [
      "\n",
      "[600]\ttrain's quantile: 0.0129485\tval's quantile: 0.0153742\n",
      "[700]\ttrain's quantile: 0.0128417\tval's quantile: 0.0153255\n",
      "[800]\ttrain's quantile: 0.0127583\tval's quantile: 0.0152745\n",
      "[900]\ttrain's quantile: 0.0126965\tval's quantile: 0.0152377\n",
      "[1000]\ttrain's quantile: 0.0126505\tval's quantile: 0.0152289\n",
      "Did not meet early stopping. Best iteration is:\n",
      "[999]\ttrain's quantile: 0.0126498\tval's quantile: 0.0152305\n",
      "alpha=0.15000000000000002\n",
      "Training until validation scores don't improve for 100 rounds.\n",
      "[100]\ttrain's quantile: 0.0476907\tval's quantile: 0.0523872\n",
      "[200]\ttrain's quantile: 0.0380489\tval's quantile: 0.0413941\n",
      "[300]\ttrain's quantile: 0.0367315\tval's quantile: 0.0402406\n",
      "[400]\ttrain's quantile: 0.0362791\tval's quantile: 0.0400083\n",
      "[500]\ttrain's quantile: 0.0360028\tval's quantile: 0.0397913\n",
      "[600]\ttrain's quantile: 0.0358341\tval's quantile: 0.0397258\n",
      "[700]\ttrain's quantile: 0.0357192\tval's quantile: 0.039673\n",
      "[800]\ttrain's quantile: 0.0356327\tval's quantile: 0.0396294\n",
      "[900]\ttrain's quantile: 0.0355577\tval's quantile: 0.0396005\n",
      "Early stopping, best iteration is:\n",
      "[882]\ttrain's quantile: 0.0355692\tval's quantile: 0.0395813\n",
      "alpha=0.25\n",
      "Training until validation scores don't improve for 100 rounds.\n",
      "[100]\ttrain's quantile: 0.0665574\tval's quantile: 0.0718278\n",
      "[200]\ttrain's quantile: 0.0583472\tval's quantile: 0.0625647\n",
      "[300]\ttrain's quantile: 0.0573093\tval's quantile: 0.0619121\n",
      "[400]\ttrain's quantile: 0.0568388\tval's quantile: 0.0619131\n",
      "[500]\ttrain's quantile: 0.0565614\tval's quantile: 0.0618838\n",
      "Early stopping, best iteration is:\n",
      "[445]\ttrain's quantile: 0.0566883\tval's quantile: 0.0618793\n",
      "alpha=0.35000000000000003\n",
      "Training until validation scores don't improve for 100 rounds.\n",
      "[100]\ttrain's quantile: 0.082145\tval's quantile: 0.0878379\n",
      "[200]\ttrain's quantile: 0.0762939\tval's quantile: 0.0818648\n",
      "[300]\ttrain's quantile: 0.0753772\tval's quantile: 0.0817267\n",
      "[400]\ttrain's quantile: 0.0749477\tval's quantile: 0.08177\n",
      "Early stopping, best iteration is:\n",
      "[363]\ttrain's quantile: 0.0750976\tval's quantile: 0.0816772\n",
      "alpha=0.45\n",
      "Training until validation scores don't improve for 100 rounds.\n",
      "[100]\ttrain's quantile: 0.0962301\tval's quantile: 0.102545\n",
      "[200]\ttrain's quantile: 0.0912448\tval's quantile: 0.098609\n",
      "[300]\ttrain's quantile: 0.0901765\tval's quantile: 0.0986995\n",
      "Early stopping, best iteration is:\n",
      "[211]\ttrain's quantile: 0.0910656\tval's quantile: 0.0985469\n",
      "alpha=0.55\n",
      "Training until validation scores don't improve for 100 rounds.\n",
      "[100]\ttrain's quantile: 0.106661\tval's quantile: 0.114234\n",
      "[200]\ttrain's quantile: 0.101559\tval's quantile: 0.111167\n",
      "Early stopping, best iteration is:\n",
      "[188]\ttrain's quantile: 0.10184\tval's quantile: 0.111126\n",
      "alpha=0.6500000000000001\n",
      "Training until validation scores don't improve for 100 rounds.\n",
      "[100]\ttrain's quantile: 0.110669\tval's quantile: 0.119699\n",
      "[200]\ttrain's quantile: 0.106106\tval's quantile: 0.118155\n",
      "Early stopping, best iteration is:\n",
      "[145]\ttrain's quantile: 0.107633\tval's quantile: 0.117918\n",
      "alpha=0.7500000000000001\n",
      "Training until validation scores don't improve for 100 rounds.\n",
      "[100]\ttrain's quantile: 0.106411\tval's quantile: 0.117082\n",
      "[200]\ttrain's quantile: 0.101533\tval's quantile: 0.116542\n",
      "Early stopping, best iteration is:\n",
      "[147]\ttrain's quantile: 0.103125\tval's quantile: 0.116109\n",
      "alpha=0.8500000000000001\n",
      "Training until validation scores don't improve for 100 rounds.\n",
      "[100]\ttrain's quantile: 0.0876366\tval's quantile: 0.0999928\n",
      "[200]\ttrain's quantile: 0.0831473\tval's quantile: 0.100352\n",
      "Early stopping, best iteration is:\n",
      "[111]\ttrain's quantile: 0.0867416\tval's quantile: 0.0998852\n",
      "alpha=0.9500000000000001\n",
      "Training until validation scores don't improve for 100 rounds.\n",
      "[100]\ttrain's quantile: 0.0434719\tval's quantile: 0.0543559\n",
      "[200]\ttrain's quantile: 0.0399085\tval's quantile: 0.0549169\n",
      "Early stopping, best iteration is:\n",
      "[102]\ttrain's quantile: 0.0433279\tval's quantile: 0.0543444\n"
     ]
    }
   ],
   "source": [
    "# train the stage1 models for the model that requires training\n",
    "npiv_estimate_stage1_linear_stage2.train_stage1()"
   ]
  },
  {
   "cell_type": "code",
   "execution_count": 7,
   "metadata": {},
   "outputs": [
    {
     "data": {
      "image/png": "[encoded data removed]",
      "text/plain": [
       "<Figure size 576x432 with 12 Axes>"
      ]
     },
     "metadata": {},
     "output_type": "display_data"
    }
   ],
   "source": [
    "# compare the predicted vs true quantiles\n",
    "qtl_comp_df = pd.concat([\n",
    "                            npiv_estimate_stage1_linear_stage2.predict_stage1(df_test, prefix='predicted_qtl'),\n",
    "                            npiv_true_stage1_linear_stage2.predict_stage1(df_test, prefix='true_qtl')\n",
    "                        ], axis=1)\n",
    "# plot\n",
    "plot_df = qtl_comp_df.sample(1000)\n",
    "alphas = npiv_estimate_stage1_linear_stage2.stage1_params.keys()\n",
    "ncols=4\n",
    "nrows = int(np.ceil(len(alphas)/ncols))\n",
    "fig, axes = plt.subplots(nrows=nrows, ncols=ncols, figsize=(2*ncols, 2*nrows), \n",
    "                         sharex=True, sharey=True)\n",
    "for i,alpha in enumerate(alphas):\n",
    "    ax = axes[i//ncols][i%ncols]\n",
    "    true_col = 'true_qtl_{:.3f}'.format(alpha)\n",
    "    pred_col = 'predicted_qtl_{:.3f}'.format(alpha)\n",
    "    tmp_df = plot_df[[true_col, pred_col]].rename(columns={true_col:'true', pred_col:'predicted'})\n",
    "    tmp_df.plot(x='true', y = 'predicted', ax=ax, kind='scatter',\n",
    "                 alpha=.3, s=3, title=\"{:.3f}-quantile\".format(alpha), grid=True)\n",
    "    # also plot the 45-degree line\n",
    "    min45, max45 = tmp_df['true'].min(), tmp_df['true'].max()\n",
    "    ax.plot([min45, max45], [min45, max45], color='red', alpha=.5)\n",
    "plt.suptitle(\"comparison of predicted vs true quantiles, with  45-degree line in red\")\n",
    "plt.tight_layout()\n",
    "plt.subplots_adjust(top=0.9)"
   ]
  },
  {
   "cell_type": "code",
   "execution_count": 8,
   "metadata": {},
   "outputs": [],
   "source": [
    "# ok, quantiles look fine."
   ]
  },
  {
   "cell_type": "markdown",
   "metadata": {},
   "source": [
    "### 2. stage2 : nonparametric IV"
   ]
  },
  {
   "cell_type": "code",
   "execution_count": 10,
   "metadata": {},
   "outputs": [
    {
     "name": "stderr",
     "output_type": "stream",
     "text": [
      "/opt/conda/lib/python3.6/site-packages/lightgbm/engine.py:107: UserWarning: Found `num_iterations` in params. Will use it instead of argument\n",
      "  warnings.warn(\"Found `{}` in params. Will use it instead of argument\".format(alias))\n"
     ]
    },
    {
     "name": "stdout",
     "output_type": "stream",
     "text": [
      "[1000]\ttrain's grouped sse: 1.72561e+06\tval's grouped sse: 1.99444e+06\n",
      "[2000]\ttrain's grouped sse: 1.66909e+06\tval's grouped sse: 2.06203e+06\n",
      "[3000]\ttrain's grouped sse: 1.64732e+06\tval's grouped sse: 2.11136e+06\n",
      "[4000]\ttrain's grouped sse: 1.63841e+06\tval's grouped sse: 2.1371e+06\n",
      "[5000]\ttrain's grouped sse: 1.63391e+06\tval's grouped sse: 2.15377e+06\n",
      "[6000]\ttrain's grouped sse: 1.63075e+06\tval's grouped sse: 2.15986e+06\n",
      "[7000]\ttrain's grouped sse: 1.62829e+06\tval's grouped sse: 2.16285e+06\n",
      "[8000]\ttrain's grouped sse: 1.62705e+06\tval's grouped sse: 2.16809e+06\n",
      "[9000]\ttrain's grouped sse: 1.62558e+06\tval's grouped sse: 2.17235e+06\n",
      "[10000]\ttrain's grouped sse: 1.62453e+06\tval's grouped sse: 2.17859e+06\n"
     ]
    },
    {
     "data": {
      "text/html": [
       "<div>\n",
       "<style scoped>\n",
       "    .dataframe tbody tr th:only-of-type {\n",
       "        vertical-align: middle;\n",
       "    }\n",
       "\n",
       "    .dataframe tbody tr th {\n",
       "        vertical-align: top;\n",
       "    }\n",
       "\n",
       "    .dataframe thead th {\n",
       "        text-align: right;\n",
       "    }\n",
       "</style>\n",
       "<table border=\"1\" class=\"dataframe\">\n",
       "  <thead>\n",
       "    <tr style=\"text-align: right;\">\n",
       "      <th></th>\n",
       "      <th>feature name</th>\n",
       "      <th>log_price</th>\n",
       "      <th>x_0</th>\n",
       "      <th>x_1</th>\n",
       "    </tr>\n",
       "  </thead>\n",
       "  <tbody>\n",
       "    <tr>\n",
       "      <th rowspan=\"8\" valign=\"top\">marginal effect</th>\n",
       "      <th>count</th>\n",
       "      <td>10000.000000</td>\n",
       "      <td>10000.000000</td>\n",
       "      <td>10000.000000</td>\n",
       "    </tr>\n",
       "    <tr>\n",
       "      <th>mean</th>\n",
       "      <td>-2.157670</td>\n",
       "      <td>-0.604114</td>\n",
       "      <td>-0.548336</td>\n",
       "    </tr>\n",
       "    <tr>\n",
       "      <th>std</th>\n",
       "      <td>8.142092</td>\n",
       "      <td>3.329766</td>\n",
       "      <td>3.418791</td>\n",
       "    </tr>\n",
       "    <tr>\n",
       "      <th>min</th>\n",
       "      <td>-48.592676</td>\n",
       "      <td>-11.132499</td>\n",
       "      <td>-14.293015</td>\n",
       "    </tr>\n",
       "    <tr>\n",
       "      <th>25%</th>\n",
       "      <td>-6.284028</td>\n",
       "      <td>-2.636495</td>\n",
       "      <td>-2.780144</td>\n",
       "    </tr>\n",
       "    <tr>\n",
       "      <th>50%</th>\n",
       "      <td>-2.310696</td>\n",
       "      <td>-0.353017</td>\n",
       "      <td>-0.552992</td>\n",
       "    </tr>\n",
       "    <tr>\n",
       "      <th>75%</th>\n",
       "      <td>1.645515</td>\n",
       "      <td>1.498539</td>\n",
       "      <td>1.645263</td>\n",
       "    </tr>\n",
       "    <tr>\n",
       "      <th>max</th>\n",
       "      <td>37.233190</td>\n",
       "      <td>11.861634</td>\n",
       "      <td>10.909346</td>\n",
       "    </tr>\n",
       "  </tbody>\n",
       "</table>\n",
       "</div>"
      ],
      "text/plain": [
       "feature name              log_price           x_0           x_1\n",
       "marginal effect count  10000.000000  10000.000000  10000.000000\n",
       "                mean      -2.157670     -0.604114     -0.548336\n",
       "                std        8.142092      3.329766      3.418791\n",
       "                min      -48.592676    -11.132499    -14.293015\n",
       "                25%       -6.284028     -2.636495     -2.780144\n",
       "                50%       -2.310696     -0.353017     -0.552992\n",
       "                75%        1.645515      1.498539      1.645263\n",
       "                max       37.233190     11.861634     10.909346"
      ]
     },
     "metadata": {},
     "output_type": "display_data"
    }
   ],
   "source": [
    "# and also for when we predict quantiles\n",
    "npiv_estimate_stage1_linear_stage2.train_stage2()\n",
    "\n",
    "# print some marginal effects\n",
    "wrapped_gbm2 = model_wrapper.ModelWrapper(npiv_estimate_stage1_linear_stage2.stage2_model)\n",
    "marginal_fx = wrapped_gbm2.marginal_effect_plots(df_test, plot=False)\n",
    "display(marginal_fx.groupby('feature name').describe().transpose())"
   ]
  },
  {
   "cell_type": "code",
   "execution_count": null,
   "metadata": {},
   "outputs": [],
   "source": []
  },
  {
   "cell_type": "code",
   "execution_count": 11,
   "metadata": {},
   "outputs": [
    {
     "data": {
      "text/plain": [
       "x_0          0.707107\n",
       "x_1          0.707107\n",
       "log_price   -4.000000\n",
       "dtype: float64"
      ]
     },
     "execution_count": 11,
     "metadata": {},
     "output_type": "execute_result"
    }
   ],
   "source": [
    "ivsim.log_sales_coefs"
   ]
  },
  {
   "cell_type": "code",
   "execution_count": null,
   "metadata": {},
   "outputs": [],
   "source": []
  },
  {
   "cell_type": "code",
   "execution_count": 12,
   "metadata": {},
   "outputs": [
    {
     "ename": "AssertionError",
     "evalue": "",
     "output_type": "error",
     "traceback": [
      "\u001b[0;31m---------------------------------------------------------------------------\u001b[0m",
      "\u001b[0;31mAssertionError\u001b[0m                            Traceback (most recent call last)",
      "\u001b[0;32m<ipython-input-12-a871fdc9ebee>\u001b[0m in \u001b[0;36m<module>\u001b[0;34m()\u001b[0m\n\u001b[0;32m----> 1\u001b[0;31m \u001b[0;32massert\u001b[0m \u001b[0;32mFalse\u001b[0m\u001b[0;34m\u001b[0m\u001b[0m\n\u001b[0m",
      "\u001b[0;31mAssertionError\u001b[0m: "
     ]
    }
   ],
   "source": [
    "assert False"
   ]
  },
  {
   "cell_type": "code",
   "execution_count": null,
   "metadata": {},
   "outputs": [],
   "source": [
    "assert False"
   ]
  },
  {
   "cell_type": "code",
   "execution_count": null,
   "metadata": {},
   "outputs": [],
   "source": []
  },
  {
   "cell_type": "code",
   "execution_count": null,
   "metadata": {},
   "outputs": [],
   "source": []
  },
  {
   "cell_type": "code",
   "execution_count": null,
   "metadata": {},
   "outputs": [],
   "source": [
    "npiv_estimate_stage1_linear_stage2.stage2_data['_qtl_'].describe()"
   ]
  },
  {
   "cell_type": "code",
   "execution_count": null,
   "metadata": {},
   "outputs": [],
   "source": [
    "npiv_estimate_stage1_linear_stage2.stage2_data['_qtl_'].shape"
   ]
  },
  {
   "cell_type": "code",
   "execution_count": null,
   "metadata": {},
   "outputs": [],
   "source": [
    "npiv_estimate_stage1_linear_stage2.stage2_data.head()"
   ]
  },
  {
   "cell_type": "code",
   "execution_count": null,
   "metadata": {},
   "outputs": [],
   "source": []
  },
  {
   "cell_type": "code",
   "execution_count": null,
   "metadata": {},
   "outputs": [],
   "source": [
    "npiv_estimate_stage1_linear_stage2.stage1_qtls"
   ]
  },
  {
   "cell_type": "code",
   "execution_count": null,
   "metadata": {},
   "outputs": [],
   "source": []
  },
  {
   "cell_type": "code",
   "execution_count": null,
   "metadata": {},
   "outputs": [],
   "source": [
    "assert False"
   ]
  },
  {
   "cell_type": "code",
   "execution_count": null,
   "metadata": {},
   "outputs": [],
   "source": []
  },
  {
   "cell_type": "code",
   "execution_count": null,
   "metadata": {},
   "outputs": [],
   "source": []
  },
  {
   "cell_type": "code",
   "execution_count": null,
   "metadata": {},
   "outputs": [],
   "source": [
    "df.head()"
   ]
  },
  {
   "cell_type": "code",
   "execution_count": null,
   "metadata": {},
   "outputs": [],
   "source": []
  },
  {
   "cell_type": "code",
   "execution_count": null,
   "metadata": {},
   "outputs": [],
   "source": [
    "df['log_price'].iloc[:10]"
   ]
  },
  {
   "cell_type": "code",
   "execution_count": null,
   "metadata": {},
   "outputs": [],
   "source": []
  },
  {
   "cell_type": "code",
   "execution_count": null,
   "metadata": {},
   "outputs": [],
   "source": [
    "np.repeat('jacob', 3)"
   ]
  },
  {
   "cell_type": "code",
   "execution_count": null,
   "metadata": {},
   "outputs": [],
   "source": [
    "np.concatenate([np.repeat('jacob', 3), np.repeat('haitao', 4)])"
   ]
  },
  {
   "cell_type": "code",
   "execution_count": null,
   "metadata": {},
   "outputs": [],
   "source": []
  },
  {
   "cell_type": "code",
   "execution_count": null,
   "metadata": {},
   "outputs": [],
   "source": []
  },
  {
   "cell_type": "code",
   "execution_count": null,
   "metadata": {},
   "outputs": [],
   "source": []
  },
  {
   "cell_type": "code",
   "execution_count": null,
   "metadata": {},
   "outputs": [],
   "source": [
    "gbm = npiv_model.stage1_models[.05]"
   ]
  },
  {
   "cell_type": "code",
   "execution_count": null,
   "metadata": {},
   "outputs": [],
   "source": []
  },
  {
   "cell_type": "code",
   "execution_count": null,
   "metadata": {},
   "outputs": [],
   "source": [
    "npiv_model.stage1_params"
   ]
  },
  {
   "cell_type": "code",
   "execution_count": null,
   "metadata": {},
   "outputs": [],
   "source": []
  },
  {
   "cell_type": "code",
   "execution_count": null,
   "metadata": {},
   "outputs": [],
   "source": []
  },
  {
   "cell_type": "code",
   "execution_count": null,
   "metadata": {},
   "outputs": [],
   "source": []
  },
  {
   "cell_type": "code",
   "execution_count": null,
   "metadata": {},
   "outputs": [],
   "source": []
  },
  {
   "cell_type": "code",
   "execution_count": null,
   "metadata": {},
   "outputs": [],
   "source": []
  },
  {
   "cell_type": "code",
   "execution_count": null,
   "metadata": {},
   "outputs": [],
   "source": [
    "npiv_model.stage1_models[.05].eval_results['val']['quantile']"
   ]
  },
  {
   "cell_type": "code",
   "execution_count": null,
   "metadata": {},
   "outputs": [],
   "source": []
  },
  {
   "cell_type": "code",
   "execution_count": null,
   "metadata": {},
   "outputs": [],
   "source": []
  },
  {
   "cell_type": "code",
   "execution_count": null,
   "metadata": {},
   "outputs": [],
   "source": [
    "df.columns"
   ]
  },
  {
   "cell_type": "code",
   "execution_count": null,
   "metadata": {},
   "outputs": [],
   "source": []
  }
 ],
 "metadata": {
  "kernelspec": {
   "display_name": "Python 3",
   "language": "python",
   "name": "python3"
  },
  "language_info": {
   "codemirror_mode": {
    "name": "ipython",
    "version": 3
   },
   "file_extension": ".py",
   "mimetype": "text/x-python",
   "name": "python",
   "nbconvert_exporter": "python",
   "pygments_lexer": "ipython3",
   "version": "3.6.5"
  }
 },
 "nbformat": 4,
 "nbformat_minor": 2
}
