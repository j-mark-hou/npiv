{
 "cells": [
  {
   "cell_type": "code",
   "execution_count": 1,
   "metadata": {},
   "outputs": [],
   "source": [
    "%load_ext autoreload\n",
    "%autoreload 2\n",
    "%matplotlib inline\n",
    "\n",
    "from collections import OrderedDict\n",
    "import numpy as np\n",
    "import pandas as pd\n",
    "import lightgbm as lgb\n",
    "import matplotlib.pyplot as plt\n",
    "from sklearn.linear_model import LinearRegression\n",
    "from scipy.optimize import minimize\n",
    "\n",
    "from npiv import iv_simulator, custom_objectives, model_wrapper, NonparametricIV"
   ]
  },
  {
   "cell_type": "code",
   "execution_count": 2,
   "metadata": {},
   "outputs": [],
   "source": [
    "# 0. random data.  price is endogenous, instrument is this \n",
    "n = 60000 # number of observations\n",
    "d = 2 # dimensionality of the exogenous regressors in x\n",
    "    \n",
    "ivsim = iv_simulator.IVSimulator(num_exog_x_cols=d, numpy_random_seed=0)\n",
    "df = ivsim.generate_data(num_obs=n)\n",
    "df['id'] = np.arange(n)\n",
    "\n",
    "test_cutoff = 50000\n",
    "df_train = df.iloc[:test_cutoff,:]\n",
    "df_test = df.iloc[test_cutoff:,:]"
   ]
  },
  {
   "cell_type": "code",
   "execution_count": null,
   "metadata": {},
   "outputs": [],
   "source": []
  },
  {
   "cell_type": "markdown",
   "metadata": {},
   "source": [
    "# Helper functions"
   ]
  },
  {
   "cell_type": "code",
   "execution_count": 3,
   "metadata": {},
   "outputs": [],
   "source": [
    "#  we'll be doing some experiments where we use the true quantiles to test\n",
    "#  just the second stage of the NonparmatricIV process, an in order to do that\n",
    "#  we'll need a class for producing true quantiles in this synthetic example\n",
    "class TrueQtlModel:\n",
    "    elast_max = ivsim.elast_max\n",
    "    elast_min = ivsim.elast_min\n",
    "    log_cost_coefs = ivsim.log_cost_coefs\n",
    "    exog_x_cols = ivsim.exog_x_cols\n",
    "    instrument_col = ivsim.instrument_col\n",
    "    def __init__(self, alpha):\n",
    "        self.alpha=alpha\n",
    "    def feature_name(self):\n",
    "        return self.exog_x_cols+[self.instrument_col]\n",
    "    def predict(self, df):\n",
    "        elast_qtl = self.alpha * (self.elast_max - self.elast_min) + self.elast_min \n",
    "        log_costs = iv_simulator.generate_log_costs(df[self.exog_x_cols], self.log_cost_coefs)\n",
    "        log_price_qtl = iv_simulator.generate_log_optimal_prices(log_costs, elast_qtl) + df[self.instrument_col]\n",
    "        return log_price_qtl"
   ]
  },
  {
   "cell_type": "code",
   "execution_count": 4,
   "metadata": {},
   "outputs": [],
   "source": [
    "def plot_performance_and_implied_margin_effects_vs_iteration(model, df_test, metric_name = 'grouped sse', \n",
    "                                                             num_grid_pts=50):\n",
    "    '''\n",
    "    function to compute and plot the distribution of marginal effects of a model,\n",
    "        with respect to each of the model features, at the various points defined\n",
    "        by df_tests    \n",
    "    model should be some NonparametricIv.stage2_model when trained with 'lgb' option\n",
    "    df_test should be some hold-out data\n",
    "    '''\n",
    "    eval_results = model.eval_results['val'][metric_name]\n",
    "    num_iters = len(eval_results)\n",
    "    # generate time series of marginal effects\n",
    "    dfs_to_concat = []\n",
    "    for num_iteration in np.linspace(1,num_iters, num_grid_pts, dtype=int):\n",
    "        print(num_iteration, end=\" \")\n",
    "        mfx = model.marginal_effect_plots(df_test, plot=False, predict_kwargs={'num_iteration':num_iteration})\n",
    "        tmp_df = mfx.groupby('feature name').describe().transpose().reset_index(level=0,drop=True)\\\n",
    "                    .reset_index().rename(columns={'index':'stat'})\n",
    "        tmp_df.columns.name=None\n",
    "        tmp_df['num_iteration'] = num_iteration\n",
    "        tmp_df.set_index(['num_iteration', 'stat'], inplace=True)\n",
    "        dfs_to_concat.append(tmp_df)\n",
    "    desc_df = pd.concat(dfs_to_concat)\n",
    "    fig, axes = plt.subplots(nrows=desc_df.shape[1]+1, ncols=1, figsize=(10, (desc_df.shape[1]+1)*1.5), sharex=True)\n",
    "    # plot performance\n",
    "    ax = axes[0]\n",
    "    ax.grid()\n",
    "    best_num_trees = np.argmin(eval_results)\n",
    "    best_perf, final_perf = eval_results[best_num_trees], eval_results[-1]\n",
    "    ax.plot(eval_results)\n",
    "    ax.axvline(best_num_trees, color='blue', linewidth=1)\n",
    "    ax.set_yscale('log')\n",
    "    ax.set_title(\"validation set performance, blue=best={:.3E}, final={:.3E}\".format(best_perf, final_perf))\n",
    "    # plot marginal effects\n",
    "    for i,c in enumerate(desc_df.columns):\n",
    "        tmp_df = desc_df.loc[pd.IndexSlice[:, ['mean', 'min', 'max', '25%', '75%']],c].unstack()\n",
    "        ax = axes[i+1]\n",
    "        ax.grid()\n",
    "        # plot the true marginal effects\n",
    "        if c=='log_price_synthetic':\n",
    "            true_mfx = ivsim.log_sales_coefs.loc['log_price']\n",
    "        else:\n",
    "            true_mfx = ivsim.log_sales_coefs.loc[c]\n",
    "        ax.axhline(true_mfx, color='red', linewidth=1)\n",
    "        ax.axvline(best_num_trees, color='blue', linewidth=1)\n",
    "        # plot the model implied marignal effects\n",
    "        ax.plot(tmp_df['mean'], color='black', linestyle='-')\n",
    "        ax.plot(tmp_df['25%'], color='black', linestyle='-.')\n",
    "        ax.plot(tmp_df['75%'], color='black', linestyle='-.')\n",
    "        ax.set_title('mean and quartiles of marginal effects of `{}`, red = truth'.format(c))\n",
    "    plt.xlabel(\"number of trees trained\")\n",
    "    plt.tight_layout()"
   ]
  },
  {
   "cell_type": "markdown",
   "metadata": {},
   "source": [
    "# I. various stage-2 objectives, assuming we have access to true quantiles"
   ]
  },
  {
   "cell_type": "markdown",
   "metadata": {},
   "source": [
    "## I.0 define the true stage1 quantile-generating functions"
   ]
  },
  {
   "cell_type": "code",
   "execution_count": 5,
   "metadata": {},
   "outputs": [
    {
     "name": "stdout",
     "output_type": "stream",
     "text": [
      "[ 0.05  0.15  0.25  0.35  0.45  0.55  0.65  0.75  0.85  0.95]\n"
     ]
    }
   ],
   "source": [
    "# now, we can construct the dict models for passing into NonparametricIV\n",
    "# use the same quantiles as the model where we estimate stage1\n",
    "num_qtls = 10\n",
    "qtl_list = np.arange(0 , 1 , 1/num_qtls) + (1/num_qtls/2)\n",
    "print(qtl_list)\n",
    "stage1_models = {alpha : TrueQtlModel(alpha) for alpha in qtl_list}"
   ]
  },
  {
   "cell_type": "markdown",
   "metadata": {},
   "source": [
    "## I.1. define NPIV models, with various stage2 models/objectives\n"
   ]
  },
  {
   "cell_type": "code",
   "execution_count": 6,
   "metadata": {},
   "outputs": [],
   "source": [
    "# linear model, upper-bound objective\n",
    "npiv_lin_upper = NonparametricIV(df=df_train,\n",
    "                                 exog_x_cols=ivsim.exog_x_cols, \n",
    "                                 instrument_cols = ['instrument'],\n",
    "                                 endog_x_col=ivsim.endog_x_col,\n",
    "                                 y_col=ivsim.y_col,\n",
    "                                 stage1_models=stage1_models,\n",
    "                                 id_col='id',\n",
    "                                 stage2_model_type='linear',\n",
    "                                 stage2_objective='upper')"
   ]
  },
  {
   "cell_type": "code",
   "execution_count": 7,
   "metadata": {},
   "outputs": [],
   "source": [
    "# linear model, true objective\n",
    "npiv_lin_true = NonparametricIV(df=df_train,\n",
    "                                 exog_x_cols=ivsim.exog_x_cols, \n",
    "                                 instrument_cols = ['instrument'],\n",
    "                                 endog_x_col=ivsim.endog_x_col,\n",
    "                                 y_col=ivsim.y_col,\n",
    "                                 stage1_models=stage1_models,\n",
    "                                 id_col='id',\n",
    "                                 stage2_model_type='linear',\n",
    "                                 stage2_objective='true')"
   ]
  },
  {
   "cell_type": "code",
   "execution_count": 8,
   "metadata": {},
   "outputs": [],
   "source": [
    "# LGB model, upper-bound objective\n",
    "npiv_lgb_upper = NonparametricIV(df=df_train,\n",
    "                                 exog_x_cols=ivsim.exog_x_cols, \n",
    "                                 instrument_cols = ['instrument'],\n",
    "                                 endog_x_col=ivsim.endog_x_col,\n",
    "                                 y_col=ivsim.y_col,\n",
    "                                 stage1_models=stage1_models,\n",
    "                                 id_col='id',\n",
    "                                 stage2_model_type='lgb',\n",
    "                                 stage2_objective='upper')"
   ]
  },
  {
   "cell_type": "code",
   "execution_count": 9,
   "metadata": {},
   "outputs": [],
   "source": [
    "# LGB model, true objective\n",
    "npiv_lgb_true = NonparametricIV(df=df_train,\n",
    "                                 exog_x_cols=ivsim.exog_x_cols, \n",
    "                                 instrument_cols = ['instrument'],\n",
    "                                 endog_x_col=ivsim.endog_x_col,\n",
    "                                 y_col=ivsim.y_col,\n",
    "                                 stage1_models=stage1_models,\n",
    "                                 id_col='id',\n",
    "                                 stage2_model_type='lgb',\n",
    "                                 stage2_objective='true')"
   ]
  },
  {
   "cell_type": "markdown",
   "metadata": {},
   "source": [
    "## I.2. compute second-stage coefs via 2sls as baseline\n",
    "- our setup is linear in both the first and second stage\n",
    "- so 2SLS should correctly estimate the coefficients\n",
    "- and they do"
   ]
  },
  {
   "cell_type": "code",
   "execution_count": 10,
   "metadata": {},
   "outputs": [
    {
     "name": "stdout",
     "output_type": "stream",
     "text": [
      "(20000, 7)\n",
      "[ 0.70598194  0.70660759  1.0313948 ]\n"
     ]
    },
    {
     "data": {
      "text/html": [
       "<div>\n",
       "<style scoped>\n",
       "    .dataframe tbody tr th:only-of-type {\n",
       "        vertical-align: middle;\n",
       "    }\n",
       "\n",
       "    .dataframe tbody tr th {\n",
       "        vertical-align: top;\n",
       "    }\n",
       "\n",
       "    .dataframe thead th {\n",
       "        text-align: right;\n",
       "    }\n",
       "</style>\n",
       "<table border=\"1\" class=\"dataframe\">\n",
       "  <thead>\n",
       "    <tr style=\"text-align: right;\">\n",
       "      <th></th>\n",
       "      <th>true</th>\n",
       "      <th>2sls</th>\n",
       "    </tr>\n",
       "  </thead>\n",
       "  <tbody>\n",
       "    <tr>\n",
       "      <th>x_0</th>\n",
       "      <td>0.707107</td>\n",
       "      <td>0.698864</td>\n",
       "    </tr>\n",
       "    <tr>\n",
       "      <th>x_1</th>\n",
       "      <td>0.707107</td>\n",
       "      <td>0.658847</td>\n",
       "    </tr>\n",
       "    <tr>\n",
       "      <th>log_price</th>\n",
       "      <td>-4.000000</td>\n",
       "      <td>-3.971273</td>\n",
       "    </tr>\n",
       "  </tbody>\n",
       "</table>\n",
       "</div>"
      ],
      "text/plain": [
       "               true      2sls\n",
       "x_0        0.707107  0.698864\n",
       "x_1        0.707107  0.658847\n",
       "log_price -4.000000 -3.971273"
      ]
     },
     "metadata": {},
     "output_type": "display_data"
    },
    {
     "name": "stdout",
     "output_type": "stream",
     "text": [
      "CPU times: user 75.6 ms, sys: 137 ms, total: 213 ms\n",
      "Wall time: 36.8 ms\n"
     ]
    }
   ],
   "source": [
    "%%time\n",
    "df = npiv_lgb_true.data\n",
    "df = df.loc[df['_purpose_']=='train2'].copy()\n",
    "print(df.shape)\n",
    "# stage1\n",
    "from sklearn.linear_model import LinearRegression\n",
    "model1 = LinearRegression()\n",
    "xcols1, ycol1 = ['x_0', 'x_1', 'instrument'], 'log_price'\n",
    "model1.fit(df[xcols1], df[ycol1])\n",
    "print(model1.coef_)\n",
    "# stage2\n",
    "df['pred_log_price'] = model1.predict(df[xcols1])\n",
    "model2 = LinearRegression()\n",
    "xcols2, ycol2 = ['x_0', 'x_1', 'pred_log_price'], 'log_sales'\n",
    "model2.fit(df[xcols2], df[ycol2])\n",
    "# print coefs of stage2 vs the truth\n",
    "stage2_coef_vs_true = pd.DataFrame({'true':ivsim.log_sales_coefs, '2sls':model2.coef_})\n",
    "display(stage2_coef_vs_true)"
   ]
  },
  {
   "cell_type": "markdown",
   "metadata": {},
   "source": [
    "## I.3. estimate stage2 for these models, using the true stage1 quantile functions"
   ]
  },
  {
   "cell_type": "markdown",
   "metadata": {},
   "source": [
    "### I.3.a.  Linear Regression, upper bound objective\n",
    "- estimated coefficients don't match true one\n",
    "- e.g. coefficient on log_price is -4, but the estiamte is close to 0"
   ]
  },
  {
   "cell_type": "code",
   "execution_count": 11,
   "metadata": {},
   "outputs": [
    {
     "data": {
      "text/html": [
       "<div>\n",
       "<style scoped>\n",
       "    .dataframe tbody tr th:only-of-type {\n",
       "        vertical-align: middle;\n",
       "    }\n",
       "\n",
       "    .dataframe tbody tr th {\n",
       "        vertical-align: top;\n",
       "    }\n",
       "\n",
       "    .dataframe thead th {\n",
       "        text-align: right;\n",
       "    }\n",
       "</style>\n",
       "<table border=\"1\" class=\"dataframe\">\n",
       "  <thead>\n",
       "    <tr style=\"text-align: right;\">\n",
       "      <th></th>\n",
       "      <th>estimated coefficients</th>\n",
       "    </tr>\n",
       "  </thead>\n",
       "  <tbody>\n",
       "    <tr>\n",
       "      <th>log_price</th>\n",
       "      <td>-0.164565</td>\n",
       "    </tr>\n",
       "    <tr>\n",
       "      <th>x_0</th>\n",
       "      <td>-1.988656</td>\n",
       "    </tr>\n",
       "    <tr>\n",
       "      <th>x_1</th>\n",
       "      <td>-2.019193</td>\n",
       "    </tr>\n",
       "  </tbody>\n",
       "</table>\n",
       "</div>"
      ],
      "text/plain": [
       "           estimated coefficients\n",
       "log_price               -0.164565\n",
       "x_0                     -1.988656\n",
       "x_1                     -2.019193"
      ]
     },
     "metadata": {},
     "output_type": "display_data"
    },
    {
     "name": "stdout",
     "output_type": "stream",
     "text": [
      "CPU times: user 107 ms, sys: 24.2 ms, total: 131 ms\n",
      "Wall time: 118 ms\n"
     ]
    }
   ],
   "source": [
    "%%time\n",
    "npiv_lin_upper.train_stage2(force=True)\n",
    "model = npiv_lin_upper.stage2_model\n",
    "coef_df = pd.DataFrame({'estimated coefficients':model.coef_}, index=model.feature_name()).sort_index()\n",
    "display(coef_df)"
   ]
  },
  {
   "cell_type": "markdown",
   "metadata": {},
   "source": [
    "### I.3.b. Linear Regression, true objective\n",
    "- estimate marginal effects are close to truth"
   ]
  },
  {
   "cell_type": "code",
   "execution_count": 12,
   "metadata": {},
   "outputs": [
    {
     "data": {
      "text/html": [
       "<div>\n",
       "<style scoped>\n",
       "    .dataframe tbody tr th:only-of-type {\n",
       "        vertical-align: middle;\n",
       "    }\n",
       "\n",
       "    .dataframe tbody tr th {\n",
       "        vertical-align: top;\n",
       "    }\n",
       "\n",
       "    .dataframe thead th {\n",
       "        text-align: right;\n",
       "    }\n",
       "</style>\n",
       "<table border=\"1\" class=\"dataframe\">\n",
       "  <thead>\n",
       "    <tr style=\"text-align: right;\">\n",
       "      <th></th>\n",
       "      <th>estimated coefficients</th>\n",
       "    </tr>\n",
       "  </thead>\n",
       "  <tbody>\n",
       "    <tr>\n",
       "      <th>log_price</th>\n",
       "      <td>-4.166086</td>\n",
       "    </tr>\n",
       "    <tr>\n",
       "      <th>x_0</th>\n",
       "      <td>0.839376</td>\n",
       "    </tr>\n",
       "    <tr>\n",
       "      <th>x_1</th>\n",
       "      <td>0.806916</td>\n",
       "    </tr>\n",
       "  </tbody>\n",
       "</table>\n",
       "</div>"
      ],
      "text/plain": [
       "           estimated coefficients\n",
       "log_price               -4.166086\n",
       "x_0                      0.839376\n",
       "x_1                      0.806916"
      ]
     },
     "metadata": {},
     "output_type": "display_data"
    },
    {
     "name": "stdout",
     "output_type": "stream",
     "text": [
      "CPU times: user 3.38 s, sys: 51.3 ms, total: 3.43 s\n",
      "Wall time: 2.58 s\n"
     ]
    }
   ],
   "source": [
    "%%time\n",
    "npiv_lin_true.train_stage2(force=True)\n",
    "model = npiv_lin_true.stage2_model\n",
    "coef_df = pd.DataFrame({'estimated coefficients':model.coef_}, index=model.feature_name()).sort_index()\n",
    "display(coef_df)"
   ]
  },
  {
   "cell_type": "markdown",
   "metadata": {},
   "source": [
    "### I.3.c. LGB, upper bound objective\n",
    "- estimated marginal effects don't appear to approach true ones\n",
    "- e.g. the true effect of log_price is -4, but the estiamted marginal effects are close to 0"
   ]
  },
  {
   "cell_type": "code",
   "execution_count": null,
   "metadata": {},
   "outputs": [
    {
     "name": "stderr",
     "output_type": "stream",
     "text": [
      "/opt/conda/lib/python3.6/site-packages/lightgbm/engine.py:107: UserWarning: Found `num_iterations` in params. Will use it instead of argument\n",
      "  warnings.warn(\"Found `{}` in params. Will use it instead of argument\".format(alias))\n"
     ]
    },
    {
     "name": "stdout",
     "output_type": "stream",
     "text": [
      "[1000]\ttrain's l2: 3.64331\tval's l2: 3.70104\n",
      "[2000]\ttrain's l2: 3.62046\tval's l2: 3.72497\n",
      "[3000]\ttrain's l2: 3.61848\tval's l2: 3.7331\n",
      "[4000]\ttrain's l2: 3.61745\tval's l2: 3.73478\n",
      "[5000]\ttrain's l2: 3.61687\tval's l2: 3.74149\n",
      "[6000]\ttrain's l2: 3.61661\tval's l2: 3.73932\n",
      "[7000]\ttrain's l2: 3.61641\tval's l2: 3.7433\n",
      "[8000]\ttrain's l2: 3.61621\tval's l2: 3.74165\n",
      "[9000]\ttrain's l2: 3.6162\tval's l2: 3.74251\n",
      "[10000]\ttrain's l2: 3.61613\tval's l2: 3.74362\n"
     ]
    }
   ],
   "source": [
    "%%time\n",
    "npiv_lgb_upper.train_stage2(force=True)\n",
    "model = npiv_lgb_upper.stage2_model\n",
    "# print some marginal effects implied by the model\n",
    "marginal_fx = model.marginal_effect_plots(df_test, plot=False)\n",
    "display(marginal_fx.groupby('feature name').describe().drop(('marginal effect', 'count'), axis=1))\n",
    "# and plot it\n",
    "plot_performance_and_implied_margin_effects_vs_iteration(model, df_test, metric_name='l2', num_grid_pts=50)"
   ]
  },
  {
   "cell_type": "code",
   "execution_count": null,
   "metadata": {},
   "outputs": [],
   "source": [
    "%%time\n",
    "npiv_lgb_true.train_stage2(force=True)\n",
    "model = npiv_lgb_true.stage2_model\n",
    "# print some marginal effects implied by the model\n",
    "marginal_fx = model.marginal_effect_plots(df_test, plot=False)\n",
    "display(marginal_fx.groupby('feature name').describe().drop(('marginal effect', 'count'), axis=1))\n",
    "# and plot it\n",
    "plot_performance_and_implied_margin_effects_vs_iteration(model, df_test, metric_name='l2', num_grid_pts=50)"
   ]
  },
  {
   "cell_type": "code",
   "execution_count": null,
   "metadata": {},
   "outputs": [],
   "source": []
  },
  {
   "cell_type": "code",
   "execution_count": null,
   "metadata": {},
   "outputs": [],
   "source": [
    "assert False"
   ]
  },
  {
   "cell_type": "markdown",
   "metadata": {},
   "source": [
    "# II. try quantiles"
   ]
  },
  {
   "cell_type": "code",
   "execution_count": null,
   "metadata": {},
   "outputs": [],
   "source": [
    "# initialize a nonparametric IV model that estimates quantiles in the first stage and uses a linear\n",
    "#  specification in the second stage\n",
    "npiv_estimate_stage1_linear_stage2 = NonparametricIV(df=df_train,\n",
    "                                                     exog_x_cols=ivsim.exog_x_cols, \n",
    "                                                     instrument_cols = ['instrument'],\n",
    "                                                     endog_x_col=ivsim.endog_x_col,\n",
    "                                                     y_col=ivsim.y_col,\n",
    "                                                     id_col='id')"
   ]
  },
  {
   "cell_type": "code",
   "execution_count": null,
   "metadata": {},
   "outputs": [],
   "source": [
    "# train the stage1 models for the model that requires training\n",
    "npiv_estimate_stage1_linear_stage2.train_stage1()"
   ]
  },
  {
   "cell_type": "code",
   "execution_count": null,
   "metadata": {},
   "outputs": [],
   "source": [
    "# compare the predicted vs true quantiles\n",
    "qtl_comp_df = pd.concat([\n",
    "                            npiv_estimate_stage1_linear_stage2.predict_stage1(df_test, prefix='predicted_qtl'),\n",
    "                            npiv_true_stage1_linear_stage2.predict_stage1(df_test, prefix='true_qtl')\n",
    "                        ], axis=1)\n",
    "# plot\n",
    "plot_df = qtl_comp_df.sample(1000)\n",
    "alphas = npiv_estimate_stage1_linear_stage2.stage1_params.keys()\n",
    "ncols=4\n",
    "nrows = int(np.ceil(len(alphas)/ncols))\n",
    "fig, axes = plt.subplots(nrows=nrows, ncols=ncols, figsize=(2*ncols, 2*nrows), \n",
    "                         sharex=True, sharey=True)\n",
    "for i,alpha in enumerate(alphas):\n",
    "    ax = axes[i//ncols][i%ncols]\n",
    "    true_col = 'true_qtl_{:.3f}'.format(alpha)\n",
    "    pred_col = 'predicted_qtl_{:.3f}'.format(alpha)\n",
    "    tmp_df = plot_df[[true_col, pred_col]].rename(columns={true_col:'true', pred_col:'predicted'})\n",
    "    tmp_df.plot(x='true', y = 'predicted', ax=ax, kind='scatter',\n",
    "                 alpha=.3, s=3, title=\"{:.3f}-quantile\".format(alpha), grid=True)\n",
    "    # also plot the 45-degree line\n",
    "    min45, max45 = tmp_df['true'].min(), tmp_df['true'].max()\n",
    "    ax.plot([min45, max45], [min45, max45], color='red', alpha=.5)\n",
    "plt.suptitle(\"comparison of predicted vs true quantiles, with  45-degree line in red\")\n",
    "plt.tight_layout()\n",
    "plt.subplots_adjust(top=0.9)"
   ]
  },
  {
   "cell_type": "code",
   "execution_count": null,
   "metadata": {},
   "outputs": [],
   "source": [
    "# ok, quantiles look fine."
   ]
  },
  {
   "cell_type": "markdown",
   "metadata": {},
   "source": [
    "### 2. stage2 : nonparametric IV"
   ]
  },
  {
   "cell_type": "code",
   "execution_count": null,
   "metadata": {},
   "outputs": [],
   "source": [
    "# and also for when we predict quantiles\n",
    "npiv_estimate_stage1_linear_stage2.train_stage2()\n",
    "\n",
    "# print some marginal effects\n",
    "wrapped_gbm2 = model_wrapper.ModelWrapper(npiv_estimate_stage1_linear_stage2.stage2_model)\n",
    "marginal_fx = wrapped_gbm2.marginal_effect_plots(df_test, plot=False)\n",
    "display(marginal_fx.groupby('feature name').describe().transpose())"
   ]
  },
  {
   "cell_type": "code",
   "execution_count": null,
   "metadata": {},
   "outputs": [],
   "source": []
  },
  {
   "cell_type": "code",
   "execution_count": null,
   "metadata": {},
   "outputs": [],
   "source": [
    "ivsim.log_sales_coefs"
   ]
  },
  {
   "cell_type": "code",
   "execution_count": null,
   "metadata": {},
   "outputs": [],
   "source": []
  },
  {
   "cell_type": "code",
   "execution_count": null,
   "metadata": {},
   "outputs": [],
   "source": [
    "assert False"
   ]
  },
  {
   "cell_type": "code",
   "execution_count": null,
   "metadata": {},
   "outputs": [],
   "source": [
    "assert False"
   ]
  },
  {
   "cell_type": "code",
   "execution_count": null,
   "metadata": {},
   "outputs": [],
   "source": []
  },
  {
   "cell_type": "code",
   "execution_count": null,
   "metadata": {},
   "outputs": [],
   "source": []
  },
  {
   "cell_type": "code",
   "execution_count": null,
   "metadata": {},
   "outputs": [],
   "source": [
    "npiv_estimate_stage1_linear_stage2.stage2_data['_qtl_'].describe()"
   ]
  },
  {
   "cell_type": "code",
   "execution_count": null,
   "metadata": {},
   "outputs": [],
   "source": [
    "npiv_estimate_stage1_linear_stage2.stage2_data['_qtl_'].shape"
   ]
  },
  {
   "cell_type": "code",
   "execution_count": null,
   "metadata": {},
   "outputs": [],
   "source": [
    "npiv_estimate_stage1_linear_stage2.stage2_data.head()"
   ]
  },
  {
   "cell_type": "code",
   "execution_count": null,
   "metadata": {},
   "outputs": [],
   "source": []
  },
  {
   "cell_type": "code",
   "execution_count": null,
   "metadata": {},
   "outputs": [],
   "source": [
    "npiv_estimate_stage1_linear_stage2.stage1_qtls"
   ]
  },
  {
   "cell_type": "code",
   "execution_count": null,
   "metadata": {},
   "outputs": [],
   "source": []
  },
  {
   "cell_type": "code",
   "execution_count": null,
   "metadata": {},
   "outputs": [],
   "source": [
    "assert False"
   ]
  },
  {
   "cell_type": "code",
   "execution_count": null,
   "metadata": {},
   "outputs": [],
   "source": []
  },
  {
   "cell_type": "code",
   "execution_count": null,
   "metadata": {},
   "outputs": [],
   "source": []
  },
  {
   "cell_type": "code",
   "execution_count": null,
   "metadata": {},
   "outputs": [],
   "source": [
    "df.head()"
   ]
  },
  {
   "cell_type": "code",
   "execution_count": null,
   "metadata": {},
   "outputs": [],
   "source": []
  },
  {
   "cell_type": "code",
   "execution_count": null,
   "metadata": {},
   "outputs": [],
   "source": [
    "df['log_price'].iloc[:10]"
   ]
  },
  {
   "cell_type": "code",
   "execution_count": null,
   "metadata": {},
   "outputs": [],
   "source": []
  },
  {
   "cell_type": "code",
   "execution_count": null,
   "metadata": {},
   "outputs": [],
   "source": [
    "np.repeat('jacob', 3)"
   ]
  },
  {
   "cell_type": "code",
   "execution_count": null,
   "metadata": {},
   "outputs": [],
   "source": [
    "np.concatenate([np.repeat('jacob', 3), np.repeat('haitao', 4)])"
   ]
  },
  {
   "cell_type": "code",
   "execution_count": null,
   "metadata": {},
   "outputs": [],
   "source": []
  },
  {
   "cell_type": "code",
   "execution_count": null,
   "metadata": {},
   "outputs": [],
   "source": []
  },
  {
   "cell_type": "code",
   "execution_count": null,
   "metadata": {},
   "outputs": [],
   "source": []
  },
  {
   "cell_type": "code",
   "execution_count": null,
   "metadata": {},
   "outputs": [],
   "source": [
    "gbm = npiv_model.stage1_models[.05]"
   ]
  },
  {
   "cell_type": "code",
   "execution_count": null,
   "metadata": {},
   "outputs": [],
   "source": []
  },
  {
   "cell_type": "code",
   "execution_count": null,
   "metadata": {},
   "outputs": [],
   "source": [
    "npiv_model.stage1_params"
   ]
  },
  {
   "cell_type": "code",
   "execution_count": null,
   "metadata": {},
   "outputs": [],
   "source": []
  },
  {
   "cell_type": "code",
   "execution_count": null,
   "metadata": {},
   "outputs": [],
   "source": []
  },
  {
   "cell_type": "code",
   "execution_count": null,
   "metadata": {},
   "outputs": [],
   "source": []
  },
  {
   "cell_type": "code",
   "execution_count": null,
   "metadata": {},
   "outputs": [],
   "source": []
  },
  {
   "cell_type": "code",
   "execution_count": null,
   "metadata": {},
   "outputs": [],
   "source": []
  },
  {
   "cell_type": "code",
   "execution_count": null,
   "metadata": {},
   "outputs": [],
   "source": [
    "npiv_model.stage1_models[.05].eval_results['val']['quantile']"
   ]
  },
  {
   "cell_type": "code",
   "execution_count": null,
   "metadata": {},
   "outputs": [],
   "source": []
  },
  {
   "cell_type": "code",
   "execution_count": null,
   "metadata": {},
   "outputs": [],
   "source": []
  },
  {
   "cell_type": "code",
   "execution_count": null,
   "metadata": {},
   "outputs": [],
   "source": [
    "df.columns"
   ]
  },
  {
   "cell_type": "code",
   "execution_count": null,
   "metadata": {},
   "outputs": [],
   "source": []
  }
 ],
 "metadata": {
  "kernelspec": {
   "display_name": "Python 3",
   "language": "python",
   "name": "python3"
  },
  "language_info": {
   "codemirror_mode": {
    "name": "ipython",
    "version": 3
   },
   "file_extension": ".py",
   "mimetype": "text/x-python",
   "name": "python",
   "nbconvert_exporter": "python",
   "pygments_lexer": "ipython3",
   "version": "3.6.5"
  }
 },
 "nbformat": 4,
 "nbformat_minor": 2
}
