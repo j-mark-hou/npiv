{
 "cells": [
  {
   "cell_type": "code",
   "execution_count": 1,
   "metadata": {},
   "outputs": [],
   "source": [
    "%load_ext autoreload\n",
    "%autoreload 2\n",
    "%matplotlib inline\n",
    "\n",
    "from collections import OrderedDict\n",
    "import numpy as np\n",
    "import pandas as pd\n",
    "import lightgbm as lgb\n",
    "import matplotlib.pyplot as plt\n",
    "from sklearn.linear_model import LinearRegression\n",
    "from scipy.optimize import minimize\n",
    "\n",
    "from npiv import iv_simulator, custom_objectives, model_wrapper, NonparametricIV"
   ]
  },
  {
   "cell_type": "code",
   "execution_count": 5,
   "metadata": {},
   "outputs": [],
   "source": [
    "# 0. random data.  price is endogenous, instrument is this \n",
    "n = 30000 # number of observations\n",
    "d = 2 # dimensionality of the exogenous regressors in x\n",
    "    \n",
    "ivsim = iv_simulator.IVSimulator(num_exog_x_cols=d)\n",
    "df = ivsim.generate_data(num_obs=n)\n",
    "df['id'] = np.arange(n)\n",
    "\n",
    "test_cutoff = int(2/3*df.shape[0])\n",
    "df_train = df.iloc[:test_cutoff,:]\n",
    "df_test = df.iloc[test_cutoff:,:]"
   ]
  },
  {
   "cell_type": "code",
   "execution_count": 6,
   "metadata": {},
   "outputs": [
    {
     "data": {
      "text/html": [
       "<div>\n",
       "<style scoped>\n",
       "    .dataframe tbody tr th:only-of-type {\n",
       "        vertical-align: middle;\n",
       "    }\n",
       "\n",
       "    .dataframe tbody tr th {\n",
       "        vertical-align: top;\n",
       "    }\n",
       "\n",
       "    .dataframe thead th {\n",
       "        text-align: right;\n",
       "    }\n",
       "</style>\n",
       "<table border=\"1\" class=\"dataframe\">\n",
       "  <thead>\n",
       "    <tr style=\"text-align: right;\">\n",
       "      <th></th>\n",
       "      <th>x_0</th>\n",
       "      <th>x_1</th>\n",
       "      <th>unobserved_elast</th>\n",
       "      <th>unobserved_log_cost</th>\n",
       "      <th>unobserved_log_optimal_price</th>\n",
       "      <th>instrument</th>\n",
       "      <th>log_price</th>\n",
       "      <th>log_sales</th>\n",
       "      <th>id</th>\n",
       "    </tr>\n",
       "  </thead>\n",
       "  <tbody>\n",
       "    <tr>\n",
       "      <th>0</th>\n",
       "      <td>-1.085631</td>\n",
       "      <td>0.997345</td>\n",
       "      <td>-5.655537</td>\n",
       "      <td>-0.062427</td>\n",
       "      <td>0.132151</td>\n",
       "      <td>-0.020052</td>\n",
       "      <td>0.112099</td>\n",
       "      <td>0.652629</td>\n",
       "      <td>0</td>\n",
       "    </tr>\n",
       "    <tr>\n",
       "      <th>1</th>\n",
       "      <td>0.282978</td>\n",
       "      <td>-1.506295</td>\n",
       "      <td>-3.509918</td>\n",
       "      <td>-0.865015</td>\n",
       "      <td>-0.529673</td>\n",
       "      <td>-0.019894</td>\n",
       "      <td>-0.549566</td>\n",
       "      <td>0.428899</td>\n",
       "      <td>1</td>\n",
       "    </tr>\n",
       "    <tr>\n",
       "      <th>2</th>\n",
       "      <td>-0.578600</td>\n",
       "      <td>1.651437</td>\n",
       "      <td>-6.767036</td>\n",
       "      <td>0.758610</td>\n",
       "      <td>0.918515</td>\n",
       "      <td>-0.071540</td>\n",
       "      <td>0.846975</td>\n",
       "      <td>-4.420754</td>\n",
       "      <td>2</td>\n",
       "    </tr>\n",
       "    <tr>\n",
       "      <th>3</th>\n",
       "      <td>-2.426679</td>\n",
       "      <td>-0.428913</td>\n",
       "      <td>-6.482309</td>\n",
       "      <td>-2.019208</td>\n",
       "      <td>-1.851658</td>\n",
       "      <td>-0.063908</td>\n",
       "      <td>-1.915566</td>\n",
       "      <td>8.493125</td>\n",
       "      <td>3</td>\n",
       "    </tr>\n",
       "    <tr>\n",
       "      <th>4</th>\n",
       "      <td>1.265936</td>\n",
       "      <td>-0.866740</td>\n",
       "      <td>-2.470734</td>\n",
       "      <td>0.282274</td>\n",
       "      <td>0.801028</td>\n",
       "      <td>0.017801</td>\n",
       "      <td>0.818829</td>\n",
       "      <td>-1.016895</td>\n",
       "      <td>4</td>\n",
       "    </tr>\n",
       "  </tbody>\n",
       "</table>\n",
       "</div>"
      ],
      "text/plain": [
       "        x_0       x_1  unobserved_elast  unobserved_log_cost  \\\n",
       "0 -1.085631  0.997345         -5.655537            -0.062427   \n",
       "1  0.282978 -1.506295         -3.509918            -0.865015   \n",
       "2 -0.578600  1.651437         -6.767036             0.758610   \n",
       "3 -2.426679 -0.428913         -6.482309            -2.019208   \n",
       "4  1.265936 -0.866740         -2.470734             0.282274   \n",
       "\n",
       "   unobserved_log_optimal_price  instrument  log_price  log_sales  id  \n",
       "0                      0.132151   -0.020052   0.112099   0.652629   0  \n",
       "1                     -0.529673   -0.019894  -0.549566   0.428899   1  \n",
       "2                      0.918515   -0.071540   0.846975  -4.420754   2  \n",
       "3                     -1.851658   -0.063908  -1.915566   8.493125   3  \n",
       "4                      0.801028    0.017801   0.818829  -1.016895   4  "
      ]
     },
     "execution_count": 6,
     "metadata": {},
     "output_type": "execute_result"
    }
   ],
   "source": [
    "df.head()"
   ]
  },
  {
   "cell_type": "code",
   "execution_count": null,
   "metadata": {},
   "outputs": [],
   "source": []
  },
  {
   "cell_type": "markdown",
   "metadata": {},
   "source": [
    "### 0. initialize models"
   ]
  },
  {
   "cell_type": "code",
   "execution_count": 7,
   "metadata": {},
   "outputs": [],
   "source": [
    "# initialize a nonparametric IV model that estimates quantiles in the first stage and uses a linear\n",
    "#  specification in the second stage\n",
    "npiv_estimate_stage1_linear_stage2 = NonparametricIV(df=df_train,\n",
    "                                                     exog_x_cols=ivsim.exog_x_cols, \n",
    "                                                     instrument_cols = ['instrument'],\n",
    "                                                     endog_x_col=ivsim.endog_x_col,\n",
    "                                                     y_col=ivsim.y_col,\n",
    "                                                     id_col='id')"
   ]
  },
  {
   "cell_type": "code",
   "execution_count": 9,
   "metadata": {},
   "outputs": [
    {
     "name": "stdout",
     "output_type": "stream",
     "text": [
      "[0.050000000000000003, 0.15000000000000002, 0.25, 0.35000000000000003, 0.45000000000000001, 0.55000000000000004, 0.65000000000000013, 0.75000000000000011, 0.85000000000000009, 0.95000000000000007]\n"
     ]
    }
   ],
   "source": [
    "# initialize a nonparametric IV model that uses true quantiles in the first stage\n",
    "# first, need a class for the model that produces the true quantiles\n",
    "class TrueQtlModel:\n",
    "    elast_max = ivsim.elast_max\n",
    "    elast_min = ivsim.elast_min\n",
    "    log_cost_coefs = ivsim.log_cost_coefs\n",
    "    exog_x_cols = ivsim.exog_x_cols\n",
    "    instrument_col = ivsim.instrument_col\n",
    "    def __init__(self, alpha):\n",
    "        self.alpha=alpha\n",
    "    def feature_name(self):\n",
    "        return self.exog_x_cols+[self.instrument_col]\n",
    "    def predict(self, df):\n",
    "        elast_qtl = self.alpha * (self.elast_max - self.elast_min) + self.elast_min \n",
    "        log_costs = iv_simulator.generate_log_costs(df[self.exog_x_cols], self.log_cost_coefs)\n",
    "        log_price_qtl = iv_simulator.generate_log_optimal_prices(log_costs, elast_qtl) + df[self.instrument_col]\n",
    "        return log_price_qtl\n",
    "# now, we can construct the dict models for passing into NonparametricIV\n",
    "# use the same quantiles as the model where we estimate stage1\n",
    "qtl_list = list(npiv_estimate_stage1_linear_stage2.stage1_params.keys())\n",
    "print(qtl_list)\n",
    "stage1_models = {alpha : TrueQtlModel(alpha) for alpha in qtl_list}\n",
    "# finally, init the npiv model\n",
    "npiv_true_stage1_linear_stage2 = NonparametricIV(df=df_train,\n",
    "                                                 exog_x_cols=ivsim.exog_x_cols, \n",
    "                                                 instrument_cols = ['instrument'],\n",
    "                                                 endog_x_col=ivsim.endog_x_col,\n",
    "                                                 y_col=ivsim.y_col,\n",
    "                                                 stage1_models=stage1_models,\n",
    "                                                 id_col='id')"
   ]
  },
  {
   "cell_type": "code",
   "execution_count": null,
   "metadata": {},
   "outputs": [],
   "source": []
  },
  {
   "cell_type": "markdown",
   "metadata": {},
   "source": [
    "### 1. stage 1 : quantiles"
   ]
  },
  {
   "cell_type": "code",
   "execution_count": 10,
   "metadata": {},
   "outputs": [
    {
     "name": "stdout",
     "output_type": "stream",
     "text": [
      "alpha=0.05\n",
      "Training until validation scores don't improve for 100 rounds.\n",
      "[100]\ttrain's quantile: 0.0237417\tval's quantile: 0.0250463\n",
      "[200]\ttrain's quantile: 0.016119\tval's quantile: 0.0169271\n",
      "[300]\ttrain's quantile: 0.0140731\tval's quantile: 0.0150263\n",
      "[400]\ttrain's quantile: 0.013228\tval's quantile: 0.0142396\n"
     ]
    },
    {
     "name": "stderr",
     "output_type": "stream",
     "text": [
      "/opt/conda/lib/python3.6/site-packages/lightgbm/engine.py:107: UserWarning: Found `num_iterations` in params. Will use it instead of argument\n",
      "  warnings.warn(\"Found `{}` in params. Will use it instead of argument\".format(alias))\n",
      "/opt/conda/lib/python3.6/site-packages/lightgbm/engine.py:112: UserWarning: Found `early_stopping_round` in params. Will use it instead of argument\n",
      "  warnings.warn(\"Found `{}` in params. Will use it instead of argument\".format(alias))\n"
     ]
    },
    {
     "name": "stdout",
     "output_type": "stream",
     "text": [
      "[500]\ttrain's quantile: 0.0128799\tval's quantile: 0.0139559\n",
      "[600]\ttrain's quantile: 0.012727\tval's quantile: 0.0138765\n",
      "[700]\ttrain's quantile: 0.0126374\tval's quantile: 0.0138103\n",
      "[800]\ttrain's quantile: 0.012566\tval's quantile: 0.013762\n",
      "[900]\ttrain's quantile: 0.0125053\tval's quantile: 0.013745\n",
      "[1000]\ttrain's quantile: 0.0124643\tval's quantile: 0.0137248\n",
      "Did not meet early stopping. Best iteration is:\n",
      "[1000]\ttrain's quantile: 0.0124643\tval's quantile: 0.0137248\n",
      "alpha=0.15000000000000002\n",
      "Training until validation scores don't improve for 100 rounds.\n",
      "[100]\ttrain's quantile: 0.0479856\tval's quantile: 0.0499071\n",
      "[200]\ttrain's quantile: 0.0378785\tval's quantile: 0.0396061\n",
      "[300]\ttrain's quantile: 0.0362211\tval's quantile: 0.037951\n",
      "[400]\ttrain's quantile: 0.0357825\tval's quantile: 0.0376016\n",
      "[500]\ttrain's quantile: 0.0355608\tval's quantile: 0.0374879\n",
      "[600]\ttrain's quantile: 0.0354468\tval's quantile: 0.0374357\n",
      "[700]\ttrain's quantile: 0.0353631\tval's quantile: 0.0373896\n",
      "[800]\ttrain's quantile: 0.035309\tval's quantile: 0.037375\n",
      "[900]\ttrain's quantile: 0.0352543\tval's quantile: 0.0373985\n",
      "Early stopping, best iteration is:\n",
      "[814]\ttrain's quantile: 0.0353038\tval's quantile: 0.0373547\n",
      "alpha=0.25\n",
      "Training until validation scores don't improve for 100 rounds.\n",
      "[100]\ttrain's quantile: 0.0649392\tval's quantile: 0.0678615\n",
      "[200]\ttrain's quantile: 0.0576491\tval's quantile: 0.0603811\n",
      "[300]\ttrain's quantile: 0.0568023\tval's quantile: 0.0596987\n",
      "[400]\ttrain's quantile: 0.056406\tval's quantile: 0.0595189\n",
      "[500]\ttrain's quantile: 0.0561801\tval's quantile: 0.0594138\n",
      "[600]\ttrain's quantile: 0.0560195\tval's quantile: 0.059478\n",
      "Early stopping, best iteration is:\n",
      "[547]\ttrain's quantile: 0.0560944\tval's quantile: 0.0593889\n",
      "alpha=0.35000000000000003\n",
      "Training until validation scores don't improve for 100 rounds.\n",
      "[100]\ttrain's quantile: 0.081173\tval's quantile: 0.0849888\n",
      "[200]\ttrain's quantile: 0.0757081\tval's quantile: 0.0795479\n",
      "[300]\ttrain's quantile: 0.0748428\tval's quantile: 0.0792154\n",
      "[400]\ttrain's quantile: 0.0743593\tval's quantile: 0.0792299\n",
      "Early stopping, best iteration is:\n",
      "[340]\ttrain's quantile: 0.0746188\tval's quantile: 0.0791348\n",
      "alpha=0.45\n",
      "Training until validation scores don't improve for 100 rounds.\n",
      "[100]\ttrain's quantile: 0.0950466\tval's quantile: 0.0992686\n",
      "[200]\ttrain's quantile: 0.0905397\tval's quantile: 0.0954064\n",
      "[300]\ttrain's quantile: 0.0896183\tval's quantile: 0.0953311\n",
      "Early stopping, best iteration is:\n",
      "[259]\ttrain's quantile: 0.0899357\tval's quantile: 0.0952781\n",
      "alpha=0.55\n",
      "Training until validation scores don't improve for 100 rounds.\n",
      "[100]\ttrain's quantile: 0.105261\tval's quantile: 0.110348\n",
      "[200]\ttrain's quantile: 0.101354\tval's quantile: 0.10781\n",
      "Early stopping, best iteration is:\n",
      "[187]\ttrain's quantile: 0.101558\tval's quantile: 0.10776\n",
      "alpha=0.6500000000000001\n",
      "Training until validation scores don't improve for 100 rounds.\n",
      "[100]\ttrain's quantile: 0.110373\tval's quantile: 0.116367\n",
      "[200]\ttrain's quantile: 0.106122\tval's quantile: 0.114763\n",
      "Early stopping, best iteration is:\n",
      "[164]\ttrain's quantile: 0.106996\tval's quantile: 0.114484\n",
      "alpha=0.7500000000000001\n",
      "Training until validation scores don't improve for 100 rounds.\n",
      "[100]\ttrain's quantile: 0.106354\tval's quantile: 0.114177\n",
      "[200]\ttrain's quantile: 0.102131\tval's quantile: 0.11406\n",
      "Early stopping, best iteration is:\n",
      "[155]\ttrain's quantile: 0.103344\tval's quantile: 0.113529\n",
      "alpha=0.8500000000000001\n",
      "Training until validation scores don't improve for 100 rounds.\n",
      "[100]\ttrain's quantile: 0.0892206\tval's quantile: 0.0989529\n",
      "[200]\ttrain's quantile: 0.0849246\tval's quantile: 0.0989129\n",
      "Early stopping, best iteration is:\n",
      "[169]\ttrain's quantile: 0.0858143\tval's quantile: 0.0985795\n",
      "alpha=0.9500000000000001\n",
      "Training until validation scores don't improve for 100 rounds.\n",
      "[100]\ttrain's quantile: 0.0444606\tval's quantile: 0.053759\n",
      "Early stopping, best iteration is:\n",
      "[91]\ttrain's quantile: 0.0449285\tval's quantile: 0.0536948\n"
     ]
    }
   ],
   "source": [
    "# train the stage1 models for the model that requires training\n",
    "npiv_estimate_stage1_linear_stage2.train_stage1()"
   ]
  },
  {
   "cell_type": "code",
   "execution_count": 11,
   "metadata": {},
   "outputs": [],
   "source": [
    "# compare the predicted vs true quantiles\n",
    "qtl_comp_df = pd.concat([\n",
    "                            npiv_estimate_stage1_linear_stage2.predict_stage1(df_test, prefix='predicted_qtl'),\n",
    "                            npiv_true_stage1_linear_stage2.predict_stage1(df_test, prefix='true_qtl')\n",
    "                        ], axis=1)\n"
   ]
  },
  {
   "cell_type": "code",
   "execution_count": 12,
   "metadata": {},
   "outputs": [
    {
     "data": {
      "image/png": "[encoded data removed]",
      "text/plain": [
       "<Figure size 576x432 with 12 Axes>"
      ]
     },
     "metadata": {},
     "output_type": "display_data"
    }
   ],
   "source": [
    "# look at quantiles\n",
    "plot_df = qtl_comp_df.sample(1000)\n",
    "alphas = npiv_estimate_stage1_linear_stage2.stage1_params.keys()\n",
    "ncols=4\n",
    "nrows = int(np.ceil(len(alphas)/ncols))\n",
    "fig, axes = plt.subplots(nrows=nrows, ncols=ncols, figsize=(2*ncols, 2*nrows), \n",
    "                         sharex=True, sharey=True)\n",
    "for i,alpha in enumerate(alphas):\n",
    "    ax = axes[i//ncols][i%ncols]\n",
    "    true_col = 'true_qtl_{:.3f}'.format(alpha)\n",
    "    pred_col = 'predicted_qtl_{:.3f}'.format(alpha)\n",
    "    tmp_df = plot_df[[true_col, pred_col]].rename(columns={true_col:'true', pred_col:'predicted'})\n",
    "    tmp_df.plot(x='true', y = 'predicted', ax=ax, kind='scatter',\n",
    "                 alpha=.3, s=3, title=\"{:.3f}-quantile\".format(alpha), grid=True)\n",
    "    # also plot the 45-degree line\n",
    "    min45, max45 = tmp_df['true'].min(), tmp_df['true'].max()\n",
    "    ax.plot([min45, max45], [min45, max45], color='red', alpha=.5)\n",
    "plt.suptitle(\"comparison of predicted vs true quantiles, with  45-degree line in red\")\n",
    "plt.tight_layout()\n",
    "plt.subplots_adjust(top=0.9)"
   ]
  },
  {
   "cell_type": "code",
   "execution_count": null,
   "metadata": {},
   "outputs": [],
   "source": [
    "# ok, quantiles look fine."
   ]
  },
  {
   "cell_type": "markdown",
   "metadata": {},
   "source": [
    "### 2. stage2 : nonparametric IV"
   ]
  },
  {
   "cell_type": "code",
   "execution_count": null,
   "metadata": {},
   "outputs": [],
   "source": []
  },
  {
   "cell_type": "code",
   "execution_count": null,
   "metadata": {},
   "outputs": [],
   "source": []
  },
  {
   "cell_type": "code",
   "execution_count": null,
   "metadata": {},
   "outputs": [],
   "source": []
  },
  {
   "cell_type": "code",
   "execution_count": null,
   "metadata": {},
   "outputs": [],
   "source": []
  },
  {
   "cell_type": "code",
   "execution_count": null,
   "metadata": {},
   "outputs": [],
   "source": []
  },
  {
   "cell_type": "code",
   "execution_count": null,
   "metadata": {},
   "outputs": [],
   "source": [
    "assert False"
   ]
  },
  {
   "cell_type": "code",
   "execution_count": null,
   "metadata": {},
   "outputs": [],
   "source": []
  },
  {
   "cell_type": "code",
   "execution_count": null,
   "metadata": {},
   "outputs": [],
   "source": []
  },
  {
   "cell_type": "code",
   "execution_count": null,
   "metadata": {},
   "outputs": [],
   "source": [
    "df.head()"
   ]
  },
  {
   "cell_type": "code",
   "execution_count": null,
   "metadata": {},
   "outputs": [],
   "source": []
  },
  {
   "cell_type": "code",
   "execution_count": null,
   "metadata": {},
   "outputs": [],
   "source": [
    "df['log_price'].iloc[:10]"
   ]
  },
  {
   "cell_type": "code",
   "execution_count": null,
   "metadata": {},
   "outputs": [],
   "source": []
  },
  {
   "cell_type": "code",
   "execution_count": null,
   "metadata": {},
   "outputs": [],
   "source": [
    "np.repeat('jacob', 3)"
   ]
  },
  {
   "cell_type": "code",
   "execution_count": null,
   "metadata": {},
   "outputs": [],
   "source": [
    "np.concatenate([np.repeat('jacob', 3), np.repeat('haitao', 4)])"
   ]
  },
  {
   "cell_type": "code",
   "execution_count": null,
   "metadata": {},
   "outputs": [],
   "source": []
  },
  {
   "cell_type": "code",
   "execution_count": null,
   "metadata": {},
   "outputs": [],
   "source": []
  },
  {
   "cell_type": "code",
   "execution_count": null,
   "metadata": {},
   "outputs": [],
   "source": []
  },
  {
   "cell_type": "code",
   "execution_count": null,
   "metadata": {},
   "outputs": [],
   "source": [
    "gbm = npiv_model.stage1_models[.05]"
   ]
  },
  {
   "cell_type": "code",
   "execution_count": null,
   "metadata": {},
   "outputs": [],
   "source": []
  },
  {
   "cell_type": "code",
   "execution_count": null,
   "metadata": {},
   "outputs": [],
   "source": [
    "npiv_model.stage1_params"
   ]
  },
  {
   "cell_type": "code",
   "execution_count": null,
   "metadata": {},
   "outputs": [],
   "source": []
  },
  {
   "cell_type": "code",
   "execution_count": null,
   "metadata": {},
   "outputs": [],
   "source": []
  },
  {
   "cell_type": "code",
   "execution_count": null,
   "metadata": {},
   "outputs": [],
   "source": []
  },
  {
   "cell_type": "code",
   "execution_count": null,
   "metadata": {},
   "outputs": [],
   "source": []
  },
  {
   "cell_type": "code",
   "execution_count": null,
   "metadata": {},
   "outputs": [],
   "source": []
  },
  {
   "cell_type": "code",
   "execution_count": null,
   "metadata": {},
   "outputs": [],
   "source": [
    "npiv_model.stage1_models[.05].eval_results['val']['quantile']"
   ]
  },
  {
   "cell_type": "code",
   "execution_count": null,
   "metadata": {},
   "outputs": [],
   "source": []
  },
  {
   "cell_type": "code",
   "execution_count": null,
   "metadata": {},
   "outputs": [],
   "source": []
  },
  {
   "cell_type": "code",
   "execution_count": null,
   "metadata": {},
   "outputs": [],
   "source": [
    "df.columns"
   ]
  },
  {
   "cell_type": "code",
   "execution_count": null,
   "metadata": {},
   "outputs": [],
   "source": []
  }
 ],
 "metadata": {
  "kernelspec": {
   "display_name": "Python 3",
   "language": "python",
   "name": "python3"
  },
  "language_info": {
   "codemirror_mode": {
    "name": "ipython",
    "version": 3
   },
   "file_extension": ".py",
   "mimetype": "text/x-python",
   "name": "python",
   "nbconvert_exporter": "python",
   "pygments_lexer": "ipython3",
   "version": "3.6.5"
  }
 },
 "nbformat": 4,
 "nbformat_minor": 2
}
